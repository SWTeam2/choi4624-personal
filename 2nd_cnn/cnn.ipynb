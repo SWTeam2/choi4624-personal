{
 "cells": [
  {
   "cell_type": "code",
   "execution_count": 2,
   "metadata": {},
   "outputs": [],
   "source": [
    "## cnn ipynb project start\n",
    "\n",
    "'''\n",
    "리모트 쉘에서 접속해서 사용하는 cnn \n",
    "cpu 기반 작동으로 진행할 예정 \n",
    "LXC container에선 avx 명령어 문제가 있을 수 있음 \n",
    "만약 문제가 되면 1. VM 2. 윈도우를 remote로 실행할 예정\n",
    "노트북 호스트는 썩 좋지 않고 코랩은 런타임 날아가는게 종종 있다 보니 가능하면 로컬 진행 \n",
    "'''"
   ]
  }
 ],
 "metadata": {
  "kernelspec": {
   "display_name": "Python 3",
   "language": "python",
   "name": "python3"
  },
  "language_info": {
   "codemirror_mode": {
    "name": "ipython",
    "version": 3
   },
   "file_extension": ".py",
   "mimetype": "text/x-python",
   "name": "python",
   "nbconvert_exporter": "python",
   "pygments_lexer": "ipython3",
   "version": "3.10.11"
  },
  "orig_nbformat": 4
 },
 "nbformat": 4,
 "nbformat_minor": 2
}
