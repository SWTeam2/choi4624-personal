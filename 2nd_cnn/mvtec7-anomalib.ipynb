{
 "cells": [
  {
   "cell_type": "code",
   "execution_count": 1,
   "metadata": {},
   "outputs": [
    {
     "name": "stdout",
     "output_type": "stream",
     "text": [
      "Cloning into 'anomalib'...\n",
      "remote: Enumerating objects: 29610, done.\u001b[K\n",
      "remote: Counting objects: 100% (1534/1534), done.\u001b[K\n",
      "remote: Compressing objects: 100% (876/876), done.\u001b[K\n",
      "remote: Total 29610 (delta 839), reused 1064 (delta 604), pack-reused 28076\u001b[K\n",
      "Receiving objects: 100% (29610/29610), 1.50 GiB | 10.80 MiB/s, done.\n",
      "Resolving deltas: 100% (16411/16411), done.\n",
      "/home/i4624/vscode/gitclone/SWbootProject_2023-7/2nd_cnn/anomalib\n",
      "    \u001b[1;31merror\u001b[0m: \u001b[1msubprocess-exited-with-error\u001b[0m\n",
      "    \n",
      "    \u001b[31m×\u001b[0m \u001b[32mpython setup.py develop\u001b[0m did not run successfully.\n",
      "    \u001b[31m│\u001b[0m exit code: \u001b[1;36m1\u001b[0m\n",
      "    \u001b[31m╰─>\u001b[0m \u001b[31m[34 lines of output]\u001b[0m\n",
      "    \u001b[31m   \u001b[0m /usr/lib/python3/dist-packages/setuptools/dist.py:493: UserWarning: Normalizing '1.0.0dev' to '1.0.0.dev0'\n",
      "    \u001b[31m   \u001b[0m   warnings.warn(tmpl.format(**locals()))\n",
      "    \u001b[31m   \u001b[0m running develop\n",
      "    \u001b[31m   \u001b[0m /usr/lib/python3/dist-packages/setuptools/command/easy_install.py:158: EasyInstallDeprecationWarning: easy_install command is deprecated. Use build and pip and other standards-based tools.\n",
      "    \u001b[31m   \u001b[0m   warnings.warn(\n",
      "    \u001b[31m   \u001b[0m WARNING: The user site-packages directory is disabled.\n",
      "    \u001b[31m   \u001b[0m /usr/lib/python3/dist-packages/setuptools/command/install.py:34: SetuptoolsDeprecationWarning: setup.py install is deprecated. Use build and pip and other standards-based tools.\n",
      "    \u001b[31m   \u001b[0m   warnings.warn(\n",
      "    \u001b[31m   \u001b[0m error: can't create or remove files in install directory\n",
      "    \u001b[31m   \u001b[0m \n",
      "    \u001b[31m   \u001b[0m The following error occurred while trying to add or remove files in the\n",
      "    \u001b[31m   \u001b[0m installation directory:\n",
      "    \u001b[31m   \u001b[0m \n",
      "    \u001b[31m   \u001b[0m     [Errno 13] Permission denied: '/usr/local/lib/python3.10/dist-packages/test-easy-install-4243.write-test'\n",
      "    \u001b[31m   \u001b[0m \n",
      "    \u001b[31m   \u001b[0m The installation directory you specified (via --install-dir, --prefix, or\n",
      "    \u001b[31m   \u001b[0m the distutils default setting) was:\n",
      "    \u001b[31m   \u001b[0m \n",
      "    \u001b[31m   \u001b[0m     /usr/local/lib/python3.10/dist-packages/\n",
      "    \u001b[31m   \u001b[0m \n",
      "    \u001b[31m   \u001b[0m Perhaps your account does not have write access to this directory?  If the\n",
      "    \u001b[31m   \u001b[0m installation directory is a system-owned directory, you may need to sign in\n",
      "    \u001b[31m   \u001b[0m as the administrator or \"root\" account.  If you do not have administrative\n",
      "    \u001b[31m   \u001b[0m access to this machine, you may wish to choose a different installation\n",
      "    \u001b[31m   \u001b[0m directory, preferably one that is listed in your PYTHONPATH environment\n",
      "    \u001b[31m   \u001b[0m variable.\n",
      "    \u001b[31m   \u001b[0m \n",
      "    \u001b[31m   \u001b[0m For information on other options, you may wish to consult the\n",
      "    \u001b[31m   \u001b[0m documentation at:\n",
      "    \u001b[31m   \u001b[0m \n",
      "    \u001b[31m   \u001b[0m   https://setuptools.pypa.io/en/latest/deprecated/easy_install.html\n",
      "    \u001b[31m   \u001b[0m \n",
      "    \u001b[31m   \u001b[0m Please make the appropriate changes for your system and try again.\n",
      "    \u001b[31m   \u001b[0m \n",
      "    \u001b[31m   \u001b[0m \u001b[31m[end of output]\u001b[0m\n",
      "    \n",
      "    \u001b[1;35mnote\u001b[0m: This error originates from a subprocess, and is likely not a problem with pip.\n",
      "\u001b[1;31merror\u001b[0m: \u001b[1msubprocess-exited-with-error\u001b[0m\n",
      "\n",
      "\u001b[31m×\u001b[0m \u001b[32mpython setup.py develop\u001b[0m did not run successfully.\n",
      "\u001b[31m│\u001b[0m exit code: \u001b[1;36m1\u001b[0m\n",
      "\u001b[31m╰─>\u001b[0m \u001b[31m[34 lines of output]\u001b[0m\n",
      "\u001b[31m   \u001b[0m /usr/lib/python3/dist-packages/setuptools/dist.py:493: UserWarning: Normalizing '1.0.0dev' to '1.0.0.dev0'\n",
      "\u001b[31m   \u001b[0m   warnings.warn(tmpl.format(**locals()))\n",
      "\u001b[31m   \u001b[0m running develop\n",
      "\u001b[31m   \u001b[0m /usr/lib/python3/dist-packages/setuptools/command/easy_install.py:158: EasyInstallDeprecationWarning: easy_install command is deprecated. Use build and pip and other standards-based tools.\n",
      "\u001b[31m   \u001b[0m   warnings.warn(\n",
      "\u001b[31m   \u001b[0m WARNING: The user site-packages directory is disabled.\n",
      "\u001b[31m   \u001b[0m /usr/lib/python3/dist-packages/setuptools/command/install.py:34: SetuptoolsDeprecationWarning: setup.py install is deprecated. Use build and pip and other standards-based tools.\n",
      "\u001b[31m   \u001b[0m   warnings.warn(\n",
      "\u001b[31m   \u001b[0m error: can't create or remove files in install directory\n",
      "\u001b[31m   \u001b[0m \n",
      "\u001b[31m   \u001b[0m The following error occurred while trying to add or remove files in the\n",
      "\u001b[31m   \u001b[0m installation directory:\n",
      "\u001b[31m   \u001b[0m \n",
      "\u001b[31m   \u001b[0m     [Errno 13] Permission denied: '/usr/local/lib/python3.10/dist-packages/test-easy-install-4243.write-test'\n",
      "\u001b[31m   \u001b[0m \n",
      "\u001b[31m   \u001b[0m The installation directory you specified (via --install-dir, --prefix, or\n",
      "\u001b[31m   \u001b[0m the distutils default setting) was:\n",
      "\u001b[31m   \u001b[0m \n",
      "\u001b[31m   \u001b[0m     /usr/local/lib/python3.10/dist-packages/\n",
      "\u001b[31m   \u001b[0m \n",
      "\u001b[31m   \u001b[0m Perhaps your account does not have write access to this directory?  If the\n",
      "\u001b[31m   \u001b[0m installation directory is a system-owned directory, you may need to sign in\n",
      "\u001b[31m   \u001b[0m as the administrator or \"root\" account.  If you do not have administrative\n",
      "\u001b[31m   \u001b[0m access to this machine, you may wish to choose a different installation\n",
      "\u001b[31m   \u001b[0m directory, preferably one that is listed in your PYTHONPATH environment\n",
      "\u001b[31m   \u001b[0m variable.\n",
      "\u001b[31m   \u001b[0m \n",
      "\u001b[31m   \u001b[0m For information on other options, you may wish to consult the\n",
      "\u001b[31m   \u001b[0m documentation at:\n",
      "\u001b[31m   \u001b[0m \n",
      "\u001b[31m   \u001b[0m   https://setuptools.pypa.io/en/latest/deprecated/easy_install.html\n",
      "\u001b[31m   \u001b[0m \n",
      "\u001b[31m   \u001b[0m Please make the appropriate changes for your system and try again.\n",
      "\u001b[31m   \u001b[0m \n",
      "\u001b[31m   \u001b[0m \u001b[31m[end of output]\u001b[0m\n",
      "\n",
      "\u001b[1;35mnote\u001b[0m: This error originates from a subprocess, and is likely not a problem with pip.\n"
     ]
    }
   ],
   "source": [
    "import os\n",
    "DATA_DIR = '/home/choi4624/vscode/lib/anomalib'\n",
    "\n",
    "# load repo with data if it is not exists\n",
    "if not os.path.exists(DATA_DIR):\n",
    "    !git clone https://github.com/openvinotoolkit/anomalib.git\n",
    "    %cd anomalib\n",
    "    !pip install -e . -q"
   ]
  },
  {
   "cell_type": "code",
   "execution_count": 7,
   "metadata": {},
   "outputs": [
    {
     "name": "stdout",
     "output_type": "stream",
     "text": [
      "Defaulting to user installation because normal site-packages is not writeable\n",
      "Requirement already satisfied: anomalib in ./src (1.0.0.dev0)\n",
      "Requirement already satisfied: albumentations>=1.1.0 in /home/choi4624/.local/lib/python3.10/site-packages (from anomalib) (1.3.1)\n",
      "Requirement already satisfied: av>=10.0.0 in /home/choi4624/.local/lib/python3.10/site-packages (from anomalib) (10.0.0)\n",
      "Requirement already satisfied: einops>=0.3.2 in /home/choi4624/.local/lib/python3.10/site-packages (from anomalib) (0.6.1)\n",
      "Requirement already satisfied: freia>=0.2 in /home/choi4624/.local/lib/python3.10/site-packages (from anomalib) (0.2)\n",
      "Requirement already satisfied: imgaug==0.4.0 in /home/choi4624/.local/lib/python3.10/site-packages (from anomalib) (0.4.0)\n",
      "Requirement already satisfied: jsonargparse[signatures]>=4.3 in /home/choi4624/.local/lib/python3.10/site-packages (from anomalib) (4.22.1)\n",
      "Requirement already satisfied: kornia<0.6.10,>=0.6.6 in /home/choi4624/.local/lib/python3.10/site-packages (from anomalib) (0.6.9)\n",
      "Requirement already satisfied: matplotlib>=3.4.3 in /home/choi4624/.local/lib/python3.10/site-packages (from anomalib) (3.7.2)\n",
      "Requirement already satisfied: omegaconf>=2.1.1 in /home/choi4624/.local/lib/python3.10/site-packages (from anomalib) (2.3.0)\n",
      "Requirement already satisfied: opencv-python>=4.5.3.56 in /home/choi4624/.local/lib/python3.10/site-packages (from anomalib) (4.8.0.74)\n",
      "Requirement already satisfied: pandas>=1.1.0 in /home/choi4624/.local/lib/python3.10/site-packages (from anomalib) (2.0.3)\n",
      "Requirement already satisfied: pytorch-lightning<1.10.0,>=1.7.0 in /home/choi4624/.local/lib/python3.10/site-packages (from anomalib) (1.9.5)\n",
      "Requirement already satisfied: timm<=0.6.12,>=0.5.4 in /home/choi4624/.local/lib/python3.10/site-packages (from anomalib) (0.6.12)\n",
      "Requirement already satisfied: torchmetrics==0.10.3 in /home/choi4624/.local/lib/python3.10/site-packages (from anomalib) (0.10.3)\n",
      "Requirement already satisfied: scikit-image>=0.14.2 in /home/choi4624/.local/lib/python3.10/site-packages (from imgaug==0.4.0->anomalib) (0.21.0)\n",
      "Requirement already satisfied: numpy>=1.15 in /home/choi4624/.local/lib/python3.10/site-packages (from imgaug==0.4.0->anomalib) (1.25.1)\n",
      "Requirement already satisfied: scipy in /home/choi4624/.local/lib/python3.10/site-packages (from imgaug==0.4.0->anomalib) (1.11.1)\n",
      "Requirement already satisfied: imageio in /home/choi4624/.local/lib/python3.10/site-packages (from imgaug==0.4.0->anomalib) (2.31.1)\n",
      "Requirement already satisfied: six in /home/choi4624/.local/lib/python3.10/site-packages (from imgaug==0.4.0->anomalib) (1.16.0)\n",
      "Requirement already satisfied: Shapely in /home/choi4624/.local/lib/python3.10/site-packages (from imgaug==0.4.0->anomalib) (2.0.1)\n",
      "Requirement already satisfied: Pillow in /home/choi4624/.local/lib/python3.10/site-packages (from imgaug==0.4.0->anomalib) (10.0.0)\n",
      "Requirement already satisfied: torch>=1.3.1 in /home/choi4624/.local/lib/python3.10/site-packages (from torchmetrics==0.10.3->anomalib) (2.0.1)\n",
      "Requirement already satisfied: packaging in /home/choi4624/.local/lib/python3.10/site-packages (from torchmetrics==0.10.3->anomalib) (23.1)\n",
      "Requirement already satisfied: PyYAML in /usr/lib/python3/dist-packages (from albumentations>=1.1.0->anomalib) (5.4.1)\n",
      "Requirement already satisfied: opencv-python-headless>=4.1.1 in /home/choi4624/.local/lib/python3.10/site-packages (from albumentations>=1.1.0->anomalib) (4.8.0.74)\n",
      "Requirement already satisfied: qudida>=0.0.4 in /home/choi4624/.local/lib/python3.10/site-packages (from albumentations>=1.1.0->anomalib) (0.0.4)\n",
      "Requirement already satisfied: typeshed-client>=2.1.0 in /home/choi4624/.local/lib/python3.10/site-packages (from jsonargparse[signatures]>=4.3->anomalib) (2.3.0)\n",
      "Requirement already satisfied: docstring-parser>=0.15 in /home/choi4624/.local/lib/python3.10/site-packages (from jsonargparse[signatures]>=4.3->anomalib) (0.15)\n",
      "Requirement already satisfied: python-dateutil>=2.7 in /home/choi4624/.local/lib/python3.10/site-packages (from matplotlib>=3.4.3->anomalib) (2.8.2)\n",
      "Requirement already satisfied: fonttools>=4.22.0 in /home/choi4624/.local/lib/python3.10/site-packages (from matplotlib>=3.4.3->anomalib) (4.41.0)\n",
      "Requirement already satisfied: cycler>=0.10 in /home/choi4624/.local/lib/python3.10/site-packages (from matplotlib>=3.4.3->anomalib) (0.11.0)\n",
      "Requirement already satisfied: kiwisolver>=1.0.1 in /home/choi4624/.local/lib/python3.10/site-packages (from matplotlib>=3.4.3->anomalib) (1.4.4)\n",
      "Requirement already satisfied: contourpy>=1.0.1 in /home/choi4624/.local/lib/python3.10/site-packages (from matplotlib>=3.4.3->anomalib) (1.1.0)\n",
      "Requirement already satisfied: pyparsing<3.1,>=2.3.1 in /usr/lib/python3/dist-packages (from matplotlib>=3.4.3->anomalib) (2.4.7)\n",
      "Requirement already satisfied: antlr4-python3-runtime==4.9.* in /home/choi4624/.local/lib/python3.10/site-packages (from omegaconf>=2.1.1->anomalib) (4.9.3)\n",
      "Requirement already satisfied: tzdata>=2022.1 in /home/choi4624/.local/lib/python3.10/site-packages (from pandas>=1.1.0->anomalib) (2023.3)\n",
      "Requirement already satisfied: pytz>=2020.1 in /home/choi4624/.local/lib/python3.10/site-packages (from pandas>=1.1.0->anomalib) (2023.3)\n",
      "Requirement already satisfied: lightning-utilities>=0.6.0.post0 in /home/choi4624/.local/lib/python3.10/site-packages (from pytorch-lightning<1.10.0,>=1.7.0->anomalib) (0.9.0)\n",
      "Requirement already satisfied: typing-extensions>=4.0.0 in /home/choi4624/.local/lib/python3.10/site-packages (from pytorch-lightning<1.10.0,>=1.7.0->anomalib) (4.7.1)\n",
      "Requirement already satisfied: tqdm>=4.57.0 in /home/choi4624/.local/lib/python3.10/site-packages (from pytorch-lightning<1.10.0,>=1.7.0->anomalib) (4.65.0)\n",
      "Requirement already satisfied: fsspec[http]>2021.06.0 in /home/choi4624/.local/lib/python3.10/site-packages (from pytorch-lightning<1.10.0,>=1.7.0->anomalib) (2023.6.0)\n",
      "Requirement already satisfied: torchvision in /home/choi4624/.local/lib/python3.10/site-packages (from timm<=0.6.12,>=0.5.4->anomalib) (0.15.2)\n",
      "Requirement already satisfied: huggingface-hub in /home/choi4624/.local/lib/python3.10/site-packages (from timm<=0.6.12,>=0.5.4->anomalib) (0.16.4)\n",
      "Requirement already satisfied: requests in /home/choi4624/.local/lib/python3.10/site-packages (from fsspec[http]>2021.06.0->pytorch-lightning<1.10.0,>=1.7.0->anomalib) (2.31.0)\n",
      "Requirement already satisfied: aiohttp!=4.0.0a0,!=4.0.0a1 in /home/choi4624/.local/lib/python3.10/site-packages (from fsspec[http]>2021.06.0->pytorch-lightning<1.10.0,>=1.7.0->anomalib) (3.8.4)\n",
      "Requirement already satisfied: scikit-learn>=0.19.1 in /home/choi4624/.local/lib/python3.10/site-packages (from qudida>=0.0.4->albumentations>=1.1.0->anomalib) (1.3.0)\n",
      "Requirement already satisfied: lazy_loader>=0.2 in /home/choi4624/.local/lib/python3.10/site-packages (from scikit-image>=0.14.2->imgaug==0.4.0->anomalib) (0.3)\n",
      "Requirement already satisfied: networkx>=2.8 in /home/choi4624/.local/lib/python3.10/site-packages (from scikit-image>=0.14.2->imgaug==0.4.0->anomalib) (3.1)\n",
      "Requirement already satisfied: PyWavelets>=1.1.1 in /home/choi4624/.local/lib/python3.10/site-packages (from scikit-image>=0.14.2->imgaug==0.4.0->anomalib) (1.4.1)\n",
      "Requirement already satisfied: tifffile>=2022.8.12 in /home/choi4624/.local/lib/python3.10/site-packages (from scikit-image>=0.14.2->imgaug==0.4.0->anomalib) (2023.7.10)\n",
      "Requirement already satisfied: nvidia-cudnn-cu11==8.5.0.96 in /home/choi4624/.local/lib/python3.10/site-packages (from torch>=1.3.1->torchmetrics==0.10.3->anomalib) (8.5.0.96)\n",
      "Requirement already satisfied: nvidia-cublas-cu11==11.10.3.66 in /home/choi4624/.local/lib/python3.10/site-packages (from torch>=1.3.1->torchmetrics==0.10.3->anomalib) (11.10.3.66)\n",
      "Requirement already satisfied: nvidia-cusparse-cu11==11.7.4.91 in /home/choi4624/.local/lib/python3.10/site-packages (from torch>=1.3.1->torchmetrics==0.10.3->anomalib) (11.7.4.91)\n",
      "Requirement already satisfied: filelock in /home/choi4624/.local/lib/python3.10/site-packages (from torch>=1.3.1->torchmetrics==0.10.3->anomalib) (3.12.2)\n",
      "Requirement already satisfied: nvidia-cufft-cu11==10.9.0.58 in /home/choi4624/.local/lib/python3.10/site-packages (from torch>=1.3.1->torchmetrics==0.10.3->anomalib) (10.9.0.58)\n",
      "Requirement already satisfied: nvidia-nvtx-cu11==11.7.91 in /home/choi4624/.local/lib/python3.10/site-packages (from torch>=1.3.1->torchmetrics==0.10.3->anomalib) (11.7.91)\n",
      "Requirement already satisfied: triton==2.0.0 in /home/choi4624/.local/lib/python3.10/site-packages (from torch>=1.3.1->torchmetrics==0.10.3->anomalib) (2.0.0)\n",
      "Requirement already satisfied: nvidia-cuda-runtime-cu11==11.7.99 in /home/choi4624/.local/lib/python3.10/site-packages (from torch>=1.3.1->torchmetrics==0.10.3->anomalib) (11.7.99)\n",
      "Requirement already satisfied: nvidia-curand-cu11==10.2.10.91 in /home/choi4624/.local/lib/python3.10/site-packages (from torch>=1.3.1->torchmetrics==0.10.3->anomalib) (10.2.10.91)\n",
      "Requirement already satisfied: nvidia-nccl-cu11==2.14.3 in /home/choi4624/.local/lib/python3.10/site-packages (from torch>=1.3.1->torchmetrics==0.10.3->anomalib) (2.14.3)\n",
      "Requirement already satisfied: nvidia-cusolver-cu11==11.4.0.1 in /home/choi4624/.local/lib/python3.10/site-packages (from torch>=1.3.1->torchmetrics==0.10.3->anomalib) (11.4.0.1)\n",
      "Requirement already satisfied: sympy in /home/choi4624/.local/lib/python3.10/site-packages (from torch>=1.3.1->torchmetrics==0.10.3->anomalib) (1.12)\n",
      "Requirement already satisfied: nvidia-cuda-cupti-cu11==11.7.101 in /home/choi4624/.local/lib/python3.10/site-packages (from torch>=1.3.1->torchmetrics==0.10.3->anomalib) (11.7.101)\n",
      "Requirement already satisfied: jinja2 in /home/choi4624/.local/lib/python3.10/site-packages (from torch>=1.3.1->torchmetrics==0.10.3->anomalib) (3.1.2)\n",
      "Requirement already satisfied: nvidia-cuda-nvrtc-cu11==11.7.99 in /home/choi4624/.local/lib/python3.10/site-packages (from torch>=1.3.1->torchmetrics==0.10.3->anomalib) (11.7.99)\n",
      "Requirement already satisfied: setuptools in /usr/lib/python3/dist-packages (from nvidia-cublas-cu11==11.10.3.66->torch>=1.3.1->torchmetrics==0.10.3->anomalib) (59.6.0)\n",
      "Requirement already satisfied: wheel in /usr/lib/python3/dist-packages (from nvidia-cublas-cu11==11.10.3.66->torch>=1.3.1->torchmetrics==0.10.3->anomalib) (0.37.1)\n",
      "Requirement already satisfied: lit in /home/choi4624/.local/lib/python3.10/site-packages (from triton==2.0.0->torch>=1.3.1->torchmetrics==0.10.3->anomalib) (16.0.6)\n",
      "Requirement already satisfied: cmake in /home/choi4624/.local/lib/python3.10/site-packages (from triton==2.0.0->torch>=1.3.1->torchmetrics==0.10.3->anomalib) (3.26.4)\n",
      "Requirement already satisfied: importlib-resources>=1.4.0 in /home/choi4624/.local/lib/python3.10/site-packages (from typeshed-client>=2.1.0->jsonargparse[signatures]>=4.3->anomalib) (6.0.0)\n",
      "Requirement already satisfied: async-timeout<5.0,>=4.0.0a3 in /home/choi4624/.local/lib/python3.10/site-packages (from aiohttp!=4.0.0a0,!=4.0.0a1->fsspec[http]>2021.06.0->pytorch-lightning<1.10.0,>=1.7.0->anomalib) (4.0.2)\n",
      "Requirement already satisfied: aiosignal>=1.1.2 in /home/choi4624/.local/lib/python3.10/site-packages (from aiohttp!=4.0.0a0,!=4.0.0a1->fsspec[http]>2021.06.0->pytorch-lightning<1.10.0,>=1.7.0->anomalib) (1.3.1)\n",
      "Requirement already satisfied: frozenlist>=1.1.1 in /home/choi4624/.local/lib/python3.10/site-packages (from aiohttp!=4.0.0a0,!=4.0.0a1->fsspec[http]>2021.06.0->pytorch-lightning<1.10.0,>=1.7.0->anomalib) (1.4.0)\n",
      "Requirement already satisfied: charset-normalizer<4.0,>=2.0 in /home/choi4624/.local/lib/python3.10/site-packages (from aiohttp!=4.0.0a0,!=4.0.0a1->fsspec[http]>2021.06.0->pytorch-lightning<1.10.0,>=1.7.0->anomalib) (3.2.0)\n",
      "Requirement already satisfied: yarl<2.0,>=1.0 in /home/choi4624/.local/lib/python3.10/site-packages (from aiohttp!=4.0.0a0,!=4.0.0a1->fsspec[http]>2021.06.0->pytorch-lightning<1.10.0,>=1.7.0->anomalib) (1.9.2)\n",
      "Requirement already satisfied: attrs>=17.3.0 in /home/choi4624/.local/lib/python3.10/site-packages (from aiohttp!=4.0.0a0,!=4.0.0a1->fsspec[http]>2021.06.0->pytorch-lightning<1.10.0,>=1.7.0->anomalib) (23.1.0)\n",
      "Requirement already satisfied: multidict<7.0,>=4.5 in /home/choi4624/.local/lib/python3.10/site-packages (from aiohttp!=4.0.0a0,!=4.0.0a1->fsspec[http]>2021.06.0->pytorch-lightning<1.10.0,>=1.7.0->anomalib) (6.0.4)\n",
      "Requirement already satisfied: joblib>=1.1.1 in /home/choi4624/.local/lib/python3.10/site-packages (from scikit-learn>=0.19.1->qudida>=0.0.4->albumentations>=1.1.0->anomalib) (1.3.1)\n",
      "Requirement already satisfied: threadpoolctl>=2.0.0 in /home/choi4624/.local/lib/python3.10/site-packages (from scikit-learn>=0.19.1->qudida>=0.0.4->albumentations>=1.1.0->anomalib) (3.2.0)\n",
      "Requirement already satisfied: MarkupSafe>=2.0 in /home/choi4624/.local/lib/python3.10/site-packages (from jinja2->torch>=1.3.1->torchmetrics==0.10.3->anomalib) (2.1.3)\n",
      "Requirement already satisfied: certifi>=2017.4.17 in /home/choi4624/.local/lib/python3.10/site-packages (from requests->fsspec[http]>2021.06.0->pytorch-lightning<1.10.0,>=1.7.0->anomalib) (2023.5.7)\n",
      "Requirement already satisfied: idna<4,>=2.5 in /home/choi4624/.local/lib/python3.10/site-packages (from requests->fsspec[http]>2021.06.0->pytorch-lightning<1.10.0,>=1.7.0->anomalib) (3.4)\n",
      "Requirement already satisfied: urllib3<3,>=1.21.1 in /home/choi4624/.local/lib/python3.10/site-packages (from requests->fsspec[http]>2021.06.0->pytorch-lightning<1.10.0,>=1.7.0->anomalib) (2.0.3)\n",
      "Requirement already satisfied: mpmath>=0.19 in /home/choi4624/.local/lib/python3.10/site-packages (from sympy->torch>=1.3.1->torchmetrics==0.10.3->anomalib) (1.3.0)\n",
      "Note: you may need to restart the kernel to use updated packages.\n"
     ]
    }
   ],
   "source": [
    "%pip install anomalib\n"
   ]
  },
  {
   "cell_type": "code",
   "execution_count": 2,
   "metadata": {},
   "outputs": [
    {
     "name": "stdout",
     "output_type": "stream",
     "text": [
      "Defaulting to user installation because normal site-packages is not writeable\n",
      "Collecting openvino\n",
      "  Downloading openvino-2023.0.1-11005-cp310-cp310-manylinux2014_x86_64.whl (36.8 MB)\n",
      "\u001b[2K     \u001b[90m━━━━━━━━━━━━━━━━━━━━━━━━━━━━━━━━━━━━━━━━\u001b[0m \u001b[32m36.8/36.8 MB\u001b[0m \u001b[31m31.5 MB/s\u001b[0m eta \u001b[36m0:00:00\u001b[0m00:01\u001b[0m00:01\u001b[0m\n",
      "\u001b[?25hRequirement already satisfied: numpy>=1.16.6 in /home/choi4624/.local/lib/python3.10/site-packages (from openvino) (1.25.1)\n",
      "Installing collected packages: openvino\n",
      "Successfully installed openvino-2023.0.1\n",
      "Note: you may need to restart the kernel to use updated packages.\n"
     ]
    }
   ],
   "source": [
    "%pip install openvino"
   ]
  },
  {
   "cell_type": "code",
   "execution_count": 2,
   "metadata": {},
   "outputs": [
    {
     "name": "stdout",
     "output_type": "stream",
     "text": [
      "/home/choi4624/vscode/gitclone/SWbootProject_2023-7/2nd_cnn/anomalib\n"
     ]
    }
   ],
   "source": [
    "%cd /home/choi4624/vscode/gitclone/SWbootProject_2023-7/2nd_cnn/anomalib"
   ]
  },
  {
   "cell_type": "code",
   "execution_count": 4,
   "metadata": {},
   "outputs": [
    {
     "name": "stdout",
     "output_type": "stream",
     "text": [
      "^C\n",
      "\u001b[31mERROR: Operation cancelled by user\u001b[0m\u001b[31m\n",
      "\u001b[0mNote: you may need to restart the kernel to use updated packages.\n"
     ]
    }
   ],
   "source": [
    "%pip install -e . -q"
   ]
  },
  {
   "cell_type": "code",
   "execution_count": 2,
   "metadata": {},
   "outputs": [
    {
     "name": "stdout",
     "output_type": "stream",
     "text": [
      "Defaulting to user installation because normal site-packages is not writeable\n",
      "Collecting wandb\n",
      "  Downloading wandb-0.15.5-py3-none-any.whl (2.1 MB)\n",
      "\u001b[2K     \u001b[90m━━━━━━━━━━━━━━━━━━━━━━━━━━━━━━━━━━━━━━━━\u001b[0m \u001b[32m2.1/2.1 MB\u001b[0m \u001b[31m4.5 MB/s\u001b[0m eta \u001b[36m0:00:00\u001b[0m00:01\u001b[0m00:01\u001b[0m0m\n",
      "\u001b[?25hCollecting sentry-sdk>=1.0.0\n",
      "  Downloading sentry_sdk-1.28.1-py2.py3-none-any.whl (214 kB)\n",
      "\u001b[2K     \u001b[90m━━━━━━━━━━━━━━━━━━━━━━━━━━━━━━━━━━━━━━\u001b[0m \u001b[32m214.7/214.7 KB\u001b[0m \u001b[31m38.0 MB/s\u001b[0m eta \u001b[36m0:00:00\u001b[0m\n",
      "\u001b[?25hRequirement already satisfied: psutil>=5.0.0 in /home/choi4624/.local/lib/python3.10/site-packages (from wandb) (5.9.5)\n",
      "Requirement already satisfied: setuptools in /usr/lib/python3/dist-packages (from wandb) (59.6.0)\n",
      "Requirement already satisfied: PyYAML in /usr/lib/python3/dist-packages (from wandb) (5.4.1)\n",
      "Collecting setproctitle\n",
      "  Downloading setproctitle-1.3.2-cp310-cp310-manylinux_2_5_x86_64.manylinux1_x86_64.manylinux_2_17_x86_64.manylinux2014_x86_64.whl (30 kB)\n",
      "Collecting pathtools\n",
      "  Downloading pathtools-0.1.2.tar.gz (11 kB)\n",
      "  Preparing metadata (setup.py) ... \u001b[?25ldone\n",
      "\u001b[?25hCollecting protobuf!=4.21.0,<5,>=3.19.0\n",
      "  Downloading protobuf-4.23.4-cp37-abi3-manylinux2014_x86_64.whl (304 kB)\n",
      "\u001b[2K     \u001b[90m━━━━━━━━━━━━━━━━━━━━━━━━━━━━━━━━━━━━━━\u001b[0m \u001b[32m304.5/304.5 KB\u001b[0m \u001b[31m27.5 MB/s\u001b[0m eta \u001b[36m0:00:00\u001b[0m\n",
      "\u001b[?25hCollecting GitPython!=3.1.29,>=1.0.0\n",
      "  Downloading GitPython-3.1.32-py3-none-any.whl (188 kB)\n",
      "\u001b[2K     \u001b[90m━━━━━━━━━━━━━━━━━━━━━━━━━━━━━━━━━━━━━━\u001b[0m \u001b[32m188.5/188.5 KB\u001b[0m \u001b[31m21.3 MB/s\u001b[0m eta \u001b[36m0:00:00\u001b[0m\n",
      "\u001b[?25hCollecting Click!=8.0.0,>=7.1\n",
      "  Downloading click-8.1.5-py3-none-any.whl (98 kB)\n",
      "\u001b[2K     \u001b[90m━━━━━━━━━━━━━━━━━━━━━━━━━━━━━━━━━━━━━━━━\u001b[0m \u001b[32m98.1/98.1 KB\u001b[0m \u001b[31m17.7 MB/s\u001b[0m eta \u001b[36m0:00:00\u001b[0m\n",
      "\u001b[?25hCollecting appdirs>=1.4.3\n",
      "  Downloading appdirs-1.4.4-py2.py3-none-any.whl (9.6 kB)\n",
      "Requirement already satisfied: requests<3,>=2.0.0 in /home/choi4624/.local/lib/python3.10/site-packages (from wandb) (2.31.0)\n",
      "Collecting docker-pycreds>=0.4.0\n",
      "  Downloading docker_pycreds-0.4.0-py2.py3-none-any.whl (9.0 kB)\n",
      "Requirement already satisfied: six>=1.4.0 in /home/choi4624/.local/lib/python3.10/site-packages (from docker-pycreds>=0.4.0->wandb) (1.16.0)\n",
      "Collecting gitdb<5,>=4.0.1\n",
      "  Downloading gitdb-4.0.10-py3-none-any.whl (62 kB)\n",
      "\u001b[2K     \u001b[90m━━━━━━━━━━━━━━━━━━━━━━━━━━━━━━━━━━━━━━━━\u001b[0m \u001b[32m62.7/62.7 KB\u001b[0m \u001b[31m5.1 MB/s\u001b[0m eta \u001b[36m0:00:00\u001b[0m\n",
      "\u001b[?25hRequirement already satisfied: idna<4,>=2.5 in /home/choi4624/.local/lib/python3.10/site-packages (from requests<3,>=2.0.0->wandb) (3.4)\n",
      "Requirement already satisfied: urllib3<3,>=1.21.1 in /home/choi4624/.local/lib/python3.10/site-packages (from requests<3,>=2.0.0->wandb) (2.0.3)\n",
      "Requirement already satisfied: charset-normalizer<4,>=2 in /home/choi4624/.local/lib/python3.10/site-packages (from requests<3,>=2.0.0->wandb) (3.2.0)\n",
      "Requirement already satisfied: certifi>=2017.4.17 in /home/choi4624/.local/lib/python3.10/site-packages (from requests<3,>=2.0.0->wandb) (2023.5.7)\n",
      "Collecting smmap<6,>=3.0.1\n",
      "  Downloading smmap-5.0.0-py3-none-any.whl (24 kB)\n",
      "Building wheels for collected packages: pathtools\n",
      "  Building wheel for pathtools (setup.py) ... \u001b[?25ldone\n",
      "\u001b[?25h  Created wheel for pathtools: filename=pathtools-0.1.2-py3-none-any.whl size=8806 sha256=a56544b5d985965ca1abc7da6892da085b0578c55a1d6e9a261da30fd54b128b\n",
      "  Stored in directory: /home/choi4624/.cache/pip/wheels/e7/f3/22/152153d6eb222ee7a56ff8617d80ee5207207a8c00a7aab794\n",
      "Successfully built pathtools\n",
      "Installing collected packages: pathtools, appdirs, smmap, setproctitle, sentry-sdk, protobuf, docker-pycreds, Click, gitdb, GitPython, wandb\n",
      "Successfully installed Click-8.1.5 GitPython-3.1.32 appdirs-1.4.4 docker-pycreds-0.4.0 gitdb-4.0.10 pathtools-0.1.2 protobuf-4.23.4 sentry-sdk-1.28.1 setproctitle-1.3.2 smmap-5.0.0 wandb-0.15.5\n",
      "Note: you may need to restart the kernel to use updated packages.\n"
     ]
    }
   ],
   "source": [
    "%pip install wandb"
   ]
  },
  {
   "cell_type": "code",
   "execution_count": 1,
   "metadata": {},
   "outputs": [],
   "source": [
    "import numpy as np\n",
    "import matplotlib.pyplot as plt\n",
    "import os, pprint, yaml, warnings, math, glob, cv2, random, logging\n",
    "\n",
    "def warn(*args, **kwargs):\n",
    "    pass\n",
    "warnings.warn = warn\n",
    "warnings.filterwarnings('ignore')\n",
    "logger = logging.getLogger(\"anomalib\")\n",
    "\n",
    "import anomalib\n",
    "from pytorch_lightning import Trainer, seed_everything\n",
    "from anomalib.config import get_configurable_parameters\n",
    "from anomalib.data import get_datamodule\n",
    "from anomalib.models import get_model\n",
    "from anomalib.utils.callbacks import LoadModelCallback, get_callbacks\n",
    "from anomalib.utils.loggers import configure_logger, get_experiment_logger"
   ]
  },
  {
   "cell_type": "code",
   "execution_count": 2,
   "metadata": {},
   "outputs": [
    {
     "name": "stdout",
     "output_type": "stream",
     "text": [
      "2.0.1+cu117\n",
      "11.7\n",
      "8500\n",
      "False\n",
      "0\n"
     ]
    },
    {
     "ename": "RuntimeError",
     "evalue": "Found no NVIDIA driver on your system. Please check that you have an NVIDIA GPU and installed a driver from http://www.nvidia.com/Download/index.aspx",
     "output_type": "error",
     "traceback": [
      "\u001b[0;31m---------------------------------------------------------------------------\u001b[0m",
      "\u001b[0;31mRuntimeError\u001b[0m                              Traceback (most recent call last)",
      "Cell \u001b[0;32mIn[2], line 7\u001b[0m\n\u001b[1;32m      5\u001b[0m \u001b[39mprint\u001b[39m(torch\u001b[39m.\u001b[39mcuda\u001b[39m.\u001b[39mis_available())\n\u001b[1;32m      6\u001b[0m \u001b[39mprint\u001b[39m(torch\u001b[39m.\u001b[39mcuda\u001b[39m.\u001b[39mdevice_count())      \n\u001b[0;32m----> 7\u001b[0m \u001b[39mprint\u001b[39m(torch\u001b[39m.\u001b[39;49mcuda\u001b[39m.\u001b[39;49mcurrent_device())\n\u001b[1;32m      8\u001b[0m \u001b[39mprint\u001b[39m(torch\u001b[39m.\u001b[39mcuda\u001b[39m.\u001b[39mdevice(\u001b[39m0\u001b[39m))\n\u001b[1;32m      9\u001b[0m \u001b[39mprint\u001b[39m(torch\u001b[39m.\u001b[39mcuda\u001b[39m.\u001b[39mget_device_name(\u001b[39m0\u001b[39m))        \n",
      "File \u001b[0;32m~/.local/lib/python3.10/site-packages/torch/cuda/__init__.py:674\u001b[0m, in \u001b[0;36mcurrent_device\u001b[0;34m()\u001b[0m\n\u001b[1;32m    672\u001b[0m \u001b[39mdef\u001b[39;00m \u001b[39mcurrent_device\u001b[39m() \u001b[39m-\u001b[39m\u001b[39m>\u001b[39m \u001b[39mint\u001b[39m:\n\u001b[1;32m    673\u001b[0m \u001b[39m    \u001b[39m\u001b[39mr\u001b[39m\u001b[39m\"\"\"Returns the index of a currently selected device.\"\"\"\u001b[39;00m\n\u001b[0;32m--> 674\u001b[0m     _lazy_init()\n\u001b[1;32m    675\u001b[0m     \u001b[39mreturn\u001b[39;00m torch\u001b[39m.\u001b[39m_C\u001b[39m.\u001b[39m_cuda_getDevice()\n",
      "File \u001b[0;32m~/.local/lib/python3.10/site-packages/torch/cuda/__init__.py:247\u001b[0m, in \u001b[0;36m_lazy_init\u001b[0;34m()\u001b[0m\n\u001b[1;32m    245\u001b[0m \u001b[39mif\u001b[39;00m \u001b[39m'\u001b[39m\u001b[39mCUDA_MODULE_LOADING\u001b[39m\u001b[39m'\u001b[39m \u001b[39mnot\u001b[39;00m \u001b[39min\u001b[39;00m os\u001b[39m.\u001b[39menviron:\n\u001b[1;32m    246\u001b[0m     os\u001b[39m.\u001b[39menviron[\u001b[39m'\u001b[39m\u001b[39mCUDA_MODULE_LOADING\u001b[39m\u001b[39m'\u001b[39m] \u001b[39m=\u001b[39m \u001b[39m'\u001b[39m\u001b[39mLAZY\u001b[39m\u001b[39m'\u001b[39m\n\u001b[0;32m--> 247\u001b[0m torch\u001b[39m.\u001b[39;49m_C\u001b[39m.\u001b[39;49m_cuda_init()\n\u001b[1;32m    248\u001b[0m \u001b[39m# Some of the queued calls may reentrantly call _lazy_init();\u001b[39;00m\n\u001b[1;32m    249\u001b[0m \u001b[39m# we need to just return without initializing in that case.\u001b[39;00m\n\u001b[1;32m    250\u001b[0m \u001b[39m# However, we must not let any *other* threads in!\u001b[39;00m\n\u001b[1;32m    251\u001b[0m _tls\u001b[39m.\u001b[39mis_initializing \u001b[39m=\u001b[39m \u001b[39mTrue\u001b[39;00m\n",
      "\u001b[0;31mRuntimeError\u001b[0m: Found no NVIDIA driver on your system. Please check that you have an NVIDIA GPU and installed a driver from http://www.nvidia.com/Download/index.aspx"
     ]
    }
   ],
   "source": [
    "import torch\n",
    "print(torch.__version__)\n",
    "print(torch.version.cuda)\n",
    "print(torch.backends.cudnn.version())\n",
    "print(torch.cuda.is_available())\n",
    "print(torch.cuda.device_count())      \n",
    "print(torch.cuda.current_device())\n",
    "print(torch.cuda.device(0))\n",
    "print(torch.cuda.get_device_name(0))        "
   ]
  },
  {
   "cell_type": "code",
   "execution_count": 4,
   "metadata": {},
   "outputs": [],
   "source": [
    "CONFIG_PATHS = '/home/choi4624/vscode/gitclone/SWbootProject_2023-7/2nd_cnn/anomalib/src/anomalib/models'\n",
    "MODEL_CONFIG_PAIRS = {\n",
    "    'patchcore': f'{CONFIG_PATHS}/patchcore/config.yaml',\n",
    "    'padim':     f'{CONFIG_PATHS}/padim/config.yaml',\n",
    "    'cflow':     f'{CONFIG_PATHS}/cflow/config.yaml',\n",
    "    'dfkde':     f'{CONFIG_PATHS}/dfkde/config.yaml',\n",
    "    'dfm':       f'{CONFIG_PATHS}/dfm/config.yaml',\n",
    "    'ganomaly':  f'{CONFIG_PATHS}/ganomaly/config.yaml',\n",
    "    'stfpm':     f'{CONFIG_PATHS}/stfpm/config.yaml',\n",
    "    'fastflow':  f'{CONFIG_PATHS}/fastflow/config.yaml',\n",
    "    'draem':     f'{CONFIG_PATHS}/draem/config.yaml',\n",
    "    'reverse_distillation': f'{CONFIG_PATHS}/reverse_distillation/config.yaml',\n",
    "}"
   ]
  },
  {
   "cell_type": "code",
   "execution_count": 5,
   "metadata": {},
   "outputs": [
    {
     "name": "stdout",
     "output_type": "stream",
     "text": [
      "dataset:\n",
      "  name: mvtec\n",
      "  format: mvtec\n",
      "  path: ./datasets/MVTec\n",
      "  task: segmentation\n",
      "  category: bottle\n",
      "  train_batch_size: 32\n",
      "  eval_batch_size: 32\n",
      "  num_workers: 8\n",
      "  image_size: 256 # dimensions to which images are resized (mandatory)\n",
      "  center_crop: 224 # dimensions to which images are center-cropped after resizing (optional)\n",
      "  normalization: imagenet # data distribution to which the images will be normalized: [none, imagenet]\n",
      "  transform_config:\n",
      "    train: null\n",
      "    eval: null\n",
      "  test_split_mode: from_dir # options: [from_dir, synthetic]\n",
      "  test_split_ratio: 0.2 # fraction of train images held out testing (usage depends on test_split_mode)\n",
      "  val_split_mode: same_as_test # options: [same_as_test, from_test, synthetic]\n",
      "  val_split_ratio: 0.5 # fraction of train/test images held out for validation (usage depends on val_split_mode)\n",
      "  tiling:\n",
      "    apply: false\n",
      "    tile_size: null\n",
      "    stride: null\n",
      "    remove_border_count: 0\n",
      "    use_random_tiling: False\n",
      "    random_tile_count: 16\n",
      "\n",
      "model:\n",
      "  name: patchcore\n",
      "  backbone: wide_resnet50_2\n",
      "  pre_trained: true\n",
      "  layers:\n",
      "    - layer2\n",
      "    - layer3\n",
      "  coreset_sampling_ratio: 0.1\n",
      "  num_neighbors: 9\n",
      "  normalization_method: min_max # options: [null, min_max, cdf]\n",
      "\n",
      "metrics:\n",
      "  image:\n",
      "    - F1Score\n",
      "    - AUROC\n",
      "  pixel:\n",
      "    - F1Score\n",
      "    - AUROC\n",
      "  threshold:\n",
      "    method: adaptive #options: [adaptive, manual]\n",
      "    manual_image: null\n",
      "    manual_pixel: null\n",
      "\n",
      "visualization:\n",
      "  show_images: False # show images on the screen\n",
      "  save_images: True # save images to the file system\n",
      "  log_images: True # log images to the available loggers (if any)\n",
      "  image_save_path: null # path to which images will be saved\n",
      "  mode: full # options: [\"full\", \"simple\"]\n",
      "\n",
      "project:\n",
      "  seed: 0\n",
      "  path: ./results\n",
      "\n",
      "logging:\n",
      "  logger: [] # options: [comet, tensorboard, wandb, csv] or combinations.\n",
      "  log_graph: false # Logs the model graph to respective logger.\n",
      "\n",
      "optimization:\n",
      "  export_mode: null # options: onnx, openvino\n",
      "\n",
      "# PL Trainer Args. Don't add extra parameter here.\n",
      "trainer:\n",
      "  enable_checkpointing: true\n",
      "  default_root_dir: null\n",
      "  gradient_clip_val: 0\n",
      "  gradient_clip_algorithm: norm\n",
      "  num_nodes: 1\n",
      "  devices: 1\n",
      "  enable_progress_bar: true\n",
      "  overfit_batches: 0.0\n",
      "  track_grad_norm: -1\n",
      "  check_val_every_n_epoch: 1 # Don't validate before extracting features.\n",
      "  fast_dev_run: false\n",
      "  accumulate_grad_batches: 1\n",
      "  max_epochs: 1\n",
      "  min_epochs: null\n",
      "  max_steps: -1\n",
      "  min_steps: null\n",
      "  max_time: null\n",
      "  limit_train_batches: 1.0\n",
      "  limit_val_batches: 1.0\n",
      "  limit_test_batches: 1.0\n",
      "  limit_predict_batches: 1.0\n",
      "  val_check_interval: 1.0 # Don't validate before extracting features.\n",
      "  log_every_n_steps: 50\n",
      "  accelerator: auto # <\"cpu\", \"gpu\", \"tpu\", \"ipu\", \"hpu\", \"auto\">\n",
      "  strategy: null\n",
      "  sync_batchnorm: false\n",
      "  precision: 32\n",
      "  enable_model_summary: true\n",
      "  num_sanity_val_steps: 0\n",
      "  profiler: null\n",
      "  benchmark: false\n",
      "  deterministic: false\n",
      "  reload_dataloaders_every_n_epochs: 0\n",
      "  auto_lr_find: false\n",
      "  replace_sampler_ddp: true\n",
      "  detect_anomaly: false\n",
      "  auto_scale_batch_size: false\n",
      "  plugins: null\n",
      "  move_metrics_to_cpu: false\n",
      "  multiple_trainloader_mode: max_size_cycle\n",
      "\n"
     ]
    }
   ],
   "source": [
    "MODEL = 'patchcore' # 'padim', 'cflow', 'stfpm', 'ganomaly', 'dfkde', 'patchcore'\n",
    "print(open(os.path.join(MODEL_CONFIG_PAIRS[MODEL]), 'r').read())"
   ]
  },
  {
   "cell_type": "code",
   "execution_count": 14,
   "metadata": {},
   "outputs": [],
   "source": [
    "new_update = {\n",
    "    \"path\": '/home/choi4624/vscode/gitclone/SWbootProject_2023-7/2nd_cnn/content/mvtec_anomaly_detection',\n",
    "    'category': 'hazelnut', \n",
    "    'image_size': 256,\n",
    "    'train_batch_size':48,\n",
    "    'seed': 101\n",
    "}"
   ]
  },
  {
   "cell_type": "code",
   "execution_count": 15,
   "metadata": {},
   "outputs": [],
   "source": [
    "# update yaml key's value\n",
    "def update_yaml(old_yaml, new_yaml, new_update):\n",
    "    # load yaml\n",
    "    with open(old_yaml) as f:\n",
    "        old = yaml.safe_load(f)\n",
    "                  \n",
    "    temp = []\n",
    "    def set_state(old, key, value):\n",
    "        if isinstance(old, dict):\n",
    "            for k, v in old.items():\n",
    "                if k == 'project':\n",
    "                    temp.append(k)\n",
    "                if k == key:\n",
    "                    if temp and k == 'path':\n",
    "                        # right now, we don't wanna change `project.path`\n",
    "                        continue\n",
    "                    old[k] = value\n",
    "                elif isinstance(v, dict):\n",
    "                    set_state(v, key, value)\n",
    "    \n",
    "    # iterate over the new update key-value pari\n",
    "    for key, value in new_update.items():\n",
    "        set_state(old, key, value)\n",
    "    \n",
    "    # save the updated / modified yaml file\n",
    "    with open(new_yaml, 'w') as f:\n",
    "        yaml.safe_dump(old, f, default_flow_style=False)"
   ]
  },
  {
   "cell_type": "code",
   "execution_count": 16,
   "metadata": {},
   "outputs": [],
   "source": [
    "# let's set a new path location of new config file \n",
    "new_yaml_path = CONFIG_PATHS + '/' + list(MODEL_CONFIG_PAIRS.keys())[0] + '_new.yaml'\n",
    "\n",
    "# run the update yaml method to update desired key's values\n",
    "update_yaml(MODEL_CONFIG_PAIRS[MODEL], new_yaml_path, new_update)"
   ]
  },
  {
   "cell_type": "code",
   "execution_count": 17,
   "metadata": {},
   "outputs": [
    {
     "name": "stdout",
     "output_type": "stream",
     "text": [
      "{'dataset': {'category': 'hazelnut',\n",
      "             'center_crop': 224,\n",
      "             'eval_batch_size': 32,\n",
      "             'format': 'mvtec',\n",
      "             'image_size': 256,\n",
      "             'name': 'mvtec',\n",
      "             'normalization': 'imagenet',\n",
      "             'num_workers': 8,\n",
      "             'path': '/home/choi4624/vscode/gitclone/SWbootProject_2023-7/2nd_cnn/content/mvtec_anomaly_detection',\n",
      "             'task': 'segmentation',\n",
      "             'test_split_mode': 'from_dir',\n",
      "             'test_split_ratio': 0.2,\n",
      "             'tiling': {'apply': False,\n",
      "                        'random_tile_count': 16,\n",
      "                        'remove_border_count': 0,\n",
      "                        'stride': None,\n",
      "                        'tile_size': None,\n",
      "                        'use_random_tiling': False},\n",
      "             'train_batch_size': 48,\n",
      "             'transform_config': {'eval': None, 'train': None},\n",
      "             'val_split_mode': 'same_as_test',\n",
      "             'val_split_ratio': 0.5},\n",
      " 'logging': {'log_graph': False, 'logger': []},\n",
      " 'metrics': {'image': ['F1Score', 'AUROC'],\n",
      "             'pixel': ['F1Score', 'AUROC'],\n",
      "             'threshold': {'manual_image': None,\n",
      "                           'manual_pixel': None,\n",
      "                           'method': 'adaptive'}},\n",
      " 'model': {'backbone': 'wide_resnet50_2',\n",
      "           'coreset_sampling_ratio': 0.1,\n",
      "           'layers': ['layer2', 'layer3'],\n",
      "           'name': 'patchcore',\n",
      "           'normalization_method': 'min_max',\n",
      "           'num_neighbors': 9,\n",
      "           'pre_trained': True},\n",
      " 'optimization': {'export_mode': None},\n",
      " 'project': {'path': './results', 'seed': 101},\n",
      " 'trainer': {'accelerator': 'auto',\n",
      "             'accumulate_grad_batches': 1,\n",
      "             'auto_lr_find': False,\n",
      "             'auto_scale_batch_size': False,\n",
      "             'benchmark': False,\n",
      "             'check_val_every_n_epoch': 1,\n",
      "             'default_root_dir': None,\n",
      "             'detect_anomaly': False,\n",
      "             'deterministic': False,\n",
      "             'devices': 1,\n",
      "             'enable_checkpointing': True,\n",
      "             'enable_model_summary': True,\n",
      "             'enable_progress_bar': True,\n",
      "             'fast_dev_run': False,\n",
      "             'gradient_clip_algorithm': 'norm',\n",
      "             'gradient_clip_val': 0,\n",
      "             'limit_predict_batches': 1.0,\n",
      "             'limit_test_batches': 1.0,\n",
      "             'limit_train_batches': 1.0,\n",
      "             'limit_val_batches': 1.0,\n",
      "             'log_every_n_steps': 50,\n",
      "             'max_epochs': 1,\n",
      "             'max_steps': -1,\n",
      "             'max_time': None,\n",
      "             'min_epochs': None,\n",
      "             'min_steps': None,\n",
      "             'move_metrics_to_cpu': False,\n",
      "             'multiple_trainloader_mode': 'max_size_cycle',\n",
      "             'num_nodes': 1,\n",
      "             'num_sanity_val_steps': 0,\n",
      "             'overfit_batches': 0.0,\n",
      "             'plugins': None,\n",
      "             'precision': 32,\n",
      "             'profiler': None,\n",
      "             'reload_dataloaders_every_n_epochs': 0,\n",
      "             'replace_sampler_ddp': True,\n",
      "             'strategy': None,\n",
      "             'sync_batchnorm': False,\n",
      "             'track_grad_norm': -1,\n",
      "             'val_check_interval': 1.0},\n",
      " 'visualization': {'image_save_path': None,\n",
      "                   'log_images': True,\n",
      "                   'mode': 'full',\n",
      "                   'save_images': True,\n",
      "                   'show_images': False}}\n"
     ]
    }
   ],
   "source": [
    "with open(new_yaml_path) as f:\n",
    "    updated_config = yaml.safe_load(f)\n",
    "pprint.pprint(updated_config) # check if it's updated"
   ]
  },
  {
   "cell_type": "code",
   "execution_count": 18,
   "metadata": {},
   "outputs": [
    {
     "name": "stderr",
     "output_type": "stream",
     "text": [
      "Global seed set to 101\n"
     ]
    },
    {
     "name": "stdout",
     "output_type": "stream",
     "text": [
      "101\n"
     ]
    }
   ],
   "source": [
    "if updated_config['project']['seed'] != 0:\n",
    "    print(updated_config['project']['seed'])\n",
    "    seed_everything(updated_config['project']['seed'])"
   ]
  },
  {
   "cell_type": "code",
   "execution_count": 19,
   "metadata": {},
   "outputs": [],
   "source": [
    "# It will return the configurable parameters in DictConfig object.\n",
    "config = get_configurable_parameters(\n",
    "    model_name=updated_config['model']['name'],\n",
    "    config_path=new_yaml_path\n",
    ")"
   ]
  },
  {
   "cell_type": "code",
   "execution_count": 20,
   "metadata": {},
   "outputs": [
    {
     "name": "stderr",
     "output_type": "stream",
     "text": [
      "FeatureExtractor is deprecated. Use TimmFeatureExtractor instead. Both FeatureExtractor and TimmFeatureExtractor will be removed in a future release.\n"
     ]
    }
   ],
   "source": [
    "# pass the config file to model, logger, callbacks and datamodule\n",
    "model      = get_model(config)\n",
    "experiment_logger = get_experiment_logger(config)\n",
    "callbacks  = get_callbacks(config)\n",
    "datamodule = get_datamodule(config)"
   ]
  },
  {
   "cell_type": "code",
   "execution_count": 21,
   "metadata": {},
   "outputs": [
    {
     "name": "stderr",
     "output_type": "stream",
     "text": [
      "GPU available: False, used: False\n",
      "TPU available: False, using: 0 TPU cores\n",
      "IPU available: False, using: 0 IPUs\n",
      "HPU available: False, using: 0 HPUs\n",
      "`Trainer(limit_train_batches=1.0)` was configured so 100% of the batches per epoch will be used..\n",
      "`Trainer(limit_val_batches=1.0)` was configured so 100% of the batches will be used..\n",
      "`Trainer(limit_test_batches=1.0)` was configured so 100% of the batches will be used..\n",
      "`Trainer(limit_predict_batches=1.0)` was configured so 100% of the batches will be used..\n",
      "`Trainer(val_check_interval=1.0)` was configured so validation will run at the end of the training epoch..\n",
      "\n",
      "  | Name                  | Type                     | Params\n",
      "-------------------------------------------------------------------\n",
      "0 | image_threshold       | AnomalyScoreThreshold    | 0     \n",
      "1 | pixel_threshold       | AnomalyScoreThreshold    | 0     \n",
      "2 | model                 | PatchcoreModel           | 24.9 M\n",
      "3 | image_metrics         | AnomalibMetricCollection | 0     \n",
      "4 | pixel_metrics         | AnomalibMetricCollection | 0     \n",
      "5 | normalization_metrics | MinMax                   | 0     \n",
      "-------------------------------------------------------------------\n",
      "24.9 M    Trainable params\n",
      "0         Non-trainable params\n",
      "24.9 M    Total params\n",
      "99.450    Total estimated model params size (MB)\n"
     ]
    },
    {
     "name": "stdout",
     "output_type": "stream",
     "text": [
      "Epoch 0:  56%|█████▌    | 5/9 [00:19<00:15,  3.88s/it, loss=nan]"
     ]
    }
   ],
   "source": [
    "# start training\n",
    "trainer = Trainer(**config.trainer, logger=experiment_logger, callbacks=callbacks)\n",
    "trainer.fit(model=model, datamodule=datamodule)"
   ]
  },
  {
   "cell_type": "code",
   "execution_count": null,
   "metadata": {},
   "outputs": [],
   "source": [
    "# load best model from checkpoint before evaluating\n",
    "load_model_callback = LoadModelCallback(\n",
    "    weights_path=trainer.checkpoint_callback.best_model_path\n",
    ")\n",
    "trainer.callbacks.insert(0, load_model_callback)\n",
    "trainer.test(model=model, datamodule=datamodule)"
   ]
  }
 ],
 "metadata": {
  "kernelspec": {
   "display_name": "Python 3",
   "language": "python",
   "name": "python3"
  },
  "language_info": {
   "codemirror_mode": {
    "name": "ipython",
    "version": 3
   },
   "file_extension": ".py",
   "mimetype": "text/x-python",
   "name": "python",
   "nbconvert_exporter": "python",
   "pygments_lexer": "ipython3",
   "version": "3.10.6"
  },
  "orig_nbformat": 4
 },
 "nbformat": 4,
 "nbformat_minor": 2
}
