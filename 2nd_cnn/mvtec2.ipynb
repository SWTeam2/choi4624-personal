{
 "cells": [
  {
   "cell_type": "code",
   "execution_count": 1,
   "metadata": {},
   "outputs": [
    {
     "name": "stderr",
     "output_type": "stream",
     "text": [
      "2023-07-18 02:50:18.105634: I tensorflow/core/util/port.cc:110] oneDNN custom operations are on. You may see slightly different numerical results due to floating-point round-off errors from different computation orders. To turn them off, set the environment variable `TF_ENABLE_ONEDNN_OPTS=0`.\n",
      "2023-07-18 02:50:18.106767: I tensorflow/tsl/cuda/cudart_stub.cc:28] Could not find cuda drivers on your machine, GPU will not be used.\n",
      "2023-07-18 02:50:18.130113: I tensorflow/tsl/cuda/cudart_stub.cc:28] Could not find cuda drivers on your machine, GPU will not be used.\n",
      "2023-07-18 02:50:18.130449: I tensorflow/core/platform/cpu_feature_guard.cc:182] This TensorFlow binary is optimized to use available CPU instructions in performance-critical operations.\n",
      "To enable the following instructions: AVX2 AVX_VNNI FMA, in other operations, rebuild TensorFlow with the appropriate compiler flags.\n",
      "2023-07-18 02:50:18.587102: W tensorflow/compiler/tf2tensorrt/utils/py_utils.cc:38] TF-TRT Warning: Could not find TensorRT\n"
     ]
    },
    {
     "ename": "IndexError",
     "evalue": "tuple index out of range",
     "output_type": "error",
     "traceback": [
      "\u001b[0;31m---------------------------------------------------------------------------\u001b[0m",
      "\u001b[0;31mIndexError\u001b[0m                                Traceback (most recent call last)",
      "Cell \u001b[0;32mIn[1], line 42\u001b[0m\n\u001b[1;32m     39\u001b[0m model \u001b[39m=\u001b[39m unet((\u001b[39m256\u001b[39m, \u001b[39m256\u001b[39m, \u001b[39m3\u001b[39m))\n\u001b[1;32m     41\u001b[0m \u001b[39m# Train the U-Net model on the screw images.\u001b[39;00m\n\u001b[0;32m---> 42\u001b[0m train(model, dataset)\n\u001b[1;32m     44\u001b[0m \u001b[39m# Segment anomalies in a new screw image.\u001b[39;00m\n\u001b[1;32m     45\u001b[0m image \u001b[39m=\u001b[39m dataset[\u001b[39m0\u001b[39m][\u001b[39m0\u001b[39m]\n",
      "Cell \u001b[0;32mIn[1], line 27\u001b[0m, in \u001b[0;36mtrain\u001b[0;34m(model, dataset)\u001b[0m\n\u001b[1;32m     25\u001b[0m \u001b[39m\u001b[39m\u001b[39m\"\"\"Trains the U-Net model on the screw images.\"\"\"\u001b[39;00m\n\u001b[1;32m     26\u001b[0m model\u001b[39m.\u001b[39mcompile(optimizer\u001b[39m=\u001b[39m\u001b[39m'\u001b[39m\u001b[39madam\u001b[39m\u001b[39m'\u001b[39m, loss\u001b[39m=\u001b[39m\u001b[39m'\u001b[39m\u001b[39mbinary_crossentropy\u001b[39m\u001b[39m'\u001b[39m, metrics\u001b[39m=\u001b[39m[\u001b[39m'\u001b[39m\u001b[39maccuracy\u001b[39m\u001b[39m'\u001b[39m])\n\u001b[0;32m---> 27\u001b[0m model\u001b[39m.\u001b[39;49mfit(dataset, epochs\u001b[39m=\u001b[39;49m\u001b[39m10\u001b[39;49m)\n",
      "File \u001b[0;32m~/.local/lib/python3.10/site-packages/keras/src/utils/traceback_utils.py:70\u001b[0m, in \u001b[0;36mfilter_traceback.<locals>.error_handler\u001b[0;34m(*args, **kwargs)\u001b[0m\n\u001b[1;32m     67\u001b[0m     filtered_tb \u001b[39m=\u001b[39m _process_traceback_frames(e\u001b[39m.\u001b[39m__traceback__)\n\u001b[1;32m     68\u001b[0m     \u001b[39m# To get the full stack trace, call:\u001b[39;00m\n\u001b[1;32m     69\u001b[0m     \u001b[39m# `tf.debugging.disable_traceback_filtering()`\u001b[39;00m\n\u001b[0;32m---> 70\u001b[0m     \u001b[39mraise\u001b[39;00m e\u001b[39m.\u001b[39mwith_traceback(filtered_tb) \u001b[39mfrom\u001b[39;00m \u001b[39mNone\u001b[39;00m\n\u001b[1;32m     71\u001b[0m \u001b[39mfinally\u001b[39;00m:\n\u001b[1;32m     72\u001b[0m     \u001b[39mdel\u001b[39;00m filtered_tb\n",
      "File \u001b[0;32m~/.local/lib/python3.10/site-packages/tensorflow/python/framework/tensor_shape.py:959\u001b[0m, in \u001b[0;36mTensorShape.__getitem__\u001b[0;34m(self, key)\u001b[0m\n\u001b[1;32m    957\u001b[0m \u001b[39melse\u001b[39;00m:\n\u001b[1;32m    958\u001b[0m   \u001b[39mif\u001b[39;00m \u001b[39mself\u001b[39m\u001b[39m.\u001b[39m_v2_behavior:\n\u001b[0;32m--> 959\u001b[0m     \u001b[39mreturn\u001b[39;00m \u001b[39mself\u001b[39;49m\u001b[39m.\u001b[39;49m_dims[key]\n\u001b[1;32m    960\u001b[0m   \u001b[39melse\u001b[39;00m:\n\u001b[1;32m    961\u001b[0m     \u001b[39mreturn\u001b[39;00m \u001b[39mself\u001b[39m\u001b[39m.\u001b[39mdims[key]\n",
      "\u001b[0;31mIndexError\u001b[0m: tuple index out of range"
     ]
    }
   ],
   "source": [
    "import tensorflow as tf\n",
    "from tensorflow.keras.layers import Input, Conv2D, MaxPooling2D, UpSampling2D\n",
    "from tensorflow.keras.models import Model\n",
    "\n",
    "def unet(input_shape):\n",
    "  \"\"\"Defines a U-Net model for anomaly segmentation.\"\"\"\n",
    "  inputs = Input(shape=input_shape)\n",
    "  x = Conv2D(32, 3, activation='relu')(inputs)\n",
    "  x = MaxPooling2D(2)(x)\n",
    "  x = Conv2D(64, 3, activation='relu')(x)\n",
    "  x = MaxPooling2D(2)(x)\n",
    "  x = Conv2D(128, 3, activation='relu')(x)\n",
    "  x = MaxPooling2D(2)(x)\n",
    "  x = Conv2D(256, 3, activation='relu')(x)\n",
    "  x = UpSampling2D(2)(x)\n",
    "  x = Conv2D(128, 3, activation='relu')(x)\n",
    "  x = UpSampling2D(2)(x)\n",
    "  x = Conv2D(64, 3, activation='relu')(x)\n",
    "  x = UpSampling2D(2)(x)\n",
    "  outputs = Conv2D(1, 1, activation='sigmoid')(x)\n",
    "  model = Model(inputs=inputs, outputs=outputs)\n",
    "  return model\n",
    "\n",
    "def train(model, dataset):\n",
    "  \"\"\"Trains the U-Net model on the screw images.\"\"\"\n",
    "  model.compile(optimizer='adam', loss='binary_crossentropy', metrics=['accuracy'])\n",
    "  model.fit(dataset, epochs=10)\n",
    "\n",
    "def segment(model, image):\n",
    "  \"\"\"Segments anomalies in a new screw image.\"\"\"\n",
    "  prediction = model.predict(image)\n",
    "  return prediction\n",
    "\n",
    "if __name__ == '__main__':\n",
    "  # Download the MVTec AD dataset and extract the images.\n",
    "  dataset = '2nd_cnn/content/mvtec_anomaly_detection/screw'\n",
    "\n",
    "  # Define a U-Net model for anomaly segmentation.\n",
    "  model = unet((256, 256, 3))\n",
    "\n",
    "  # Train the U-Net model on the screw images.\n",
    "  train(model, dataset)\n",
    "\n",
    "  # Segment anomalies in a new screw image.\n",
    "  image = dataset[0][0]\n",
    "  prediction = segment(model, image)\n",
    "\n",
    "  # Display the original image and the anomaly segmentation.\n",
    "  import matplotlib.pyplot as plt\n",
    "  plt.subplot(121)\n",
    "  plt.imshow(image)\n",
    "  plt.subplot(122)\n",
    "  plt.imshow(prediction)\n",
    "  plt.show()\n"
   ]
  }
 ],
 "metadata": {
  "kernelspec": {
   "display_name": "Python 3",
   "language": "python",
   "name": "python3"
  },
  "language_info": {
   "codemirror_mode": {
    "name": "ipython",
    "version": 3
   },
   "file_extension": ".py",
   "mimetype": "text/x-python",
   "name": "python",
   "nbconvert_exporter": "python",
   "pygments_lexer": "ipython3",
   "version": "3.10.6"
  },
  "orig_nbformat": 4
 },
 "nbformat": 4,
 "nbformat_minor": 2
}
