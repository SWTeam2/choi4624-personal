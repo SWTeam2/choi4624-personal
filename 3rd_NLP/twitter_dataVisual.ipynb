{
 "cells": [
  {
   "cell_type": "code",
   "execution_count": null,
   "metadata": {},
   "outputs": [],
   "source": [
    "%pip install scattertext\n",
    "%pip install spacy_cld\n"
   ]
  },
  {
   "cell_type": "code",
   "execution_count": null,
   "metadata": {},
   "outputs": [],
   "source": [
    "%pip install spacymoji\n",
    "%pip install empath\n",
    "%pip install spacy_langdetect"
   ]
  },
  {
   "cell_type": "code",
   "execution_count": null,
   "metadata": {},
   "outputs": [],
   "source": [
    "%pip install matplotlib"
   ]
  },
  {
   "cell_type": "code",
   "execution_count": null,
   "metadata": {},
   "outputs": [],
   "source": [
    "%pip install TextBlob stopwords "
   ]
  },
  {
   "cell_type": "code",
   "execution_count": 1,
   "metadata": {},
   "outputs": [
    {
     "data": {
      "application/vnd.jupyter.widget-view+json": {
       "model_id": "6aa13e53ceda4f0193955a68df401875",
       "version_major": 2,
       "version_minor": 0
      },
      "text/plain": [
       "0it [00:00, ?it/s]"
      ]
     },
     "metadata": {},
     "output_type": "display_data"
    },
    {
     "data": {
      "text/plain": [
       "<tqdm.notebook.tqdm_notebook at 0x7f656c897ee0>"
      ]
     },
     "execution_count": 1,
     "metadata": {},
     "output_type": "execute_result"
    },
    {
     "data": {
      "image/png": "[encoded data removed]",
      "text/plain": [
       "<Figure size 640x480 with 1 Axes>"
      ]
     },
     "metadata": {},
     "output_type": "display_data"
    }
   ],
   "source": [
    "# library imports\n",
    "import re\n",
    "import numpy as np\n",
    "import pandas as pd\n",
    "import matplotlib.pyplot as plt\n",
    "plt.style.use('ggplot')\n",
    "width = 0.75\n",
    "plt.rcParams['xtick.labelsize'] = 15\n",
    "plt.rcParams['ytick.labelsize'] = 15\n",
    "plt.rcParams[\"font.weight\"] = \"bold\"\n",
    "plt.rcParams[\"axes.labelweight\"] = \"bold\"\n",
    "plt.axis('off')\n",
    "from nltk.corpus import stopwords\n",
    "from textblob import TextBlob\n",
    "import scattertext as st\n",
    "import spacy\n",
    "import spacy_cld\n",
    "\n",
    "from IPython.display import IFrame\n",
    "from IPython.display import display, HTML  \n",
    "from collections import Counter\n",
    "from tqdm import notebook as tqdm  # cool progress bars\n",
    "tqdm.tqdm_notebook() # Enable tracking of progress in dataframe `apply` calls"
   ]
  },
  {
   "cell_type": "code",
   "execution_count": 2,
   "metadata": {},
   "outputs": [
    {
     "name": "stdout",
     "output_type": "stream",
     "text": [
      "(2811774, 7)\n"
     ]
    },
    {
     "data": {
      "text/html": [
       "<div>\n",
       "<style scoped>\n",
       "    .dataframe tbody tr th:only-of-type {\n",
       "        vertical-align: middle;\n",
       "    }\n",
       "\n",
       "    .dataframe tbody tr th {\n",
       "        vertical-align: top;\n",
       "    }\n",
       "\n",
       "    .dataframe thead th {\n",
       "        text-align: right;\n",
       "    }\n",
       "</style>\n",
       "<table border=\"1\" class=\"dataframe\">\n",
       "  <thead>\n",
       "    <tr style=\"text-align: right;\">\n",
       "      <th></th>\n",
       "      <th>tweet_id</th>\n",
       "      <th>author_id</th>\n",
       "      <th>inbound</th>\n",
       "      <th>created_at</th>\n",
       "      <th>text</th>\n",
       "      <th>response_tweet_id</th>\n",
       "      <th>in_response_to_tweet_id</th>\n",
       "    </tr>\n",
       "  </thead>\n",
       "  <tbody>\n",
       "    <tr>\n",
       "      <th>0</th>\n",
       "      <td>1</td>\n",
       "      <td>sprintcare</td>\n",
       "      <td>False</td>\n",
       "      <td>Tue Oct 31 22:10:47 +0000 2017</td>\n",
       "      <td>@115712 I understand. I would like to assist y...</td>\n",
       "      <td>2</td>\n",
       "      <td>3.0</td>\n",
       "    </tr>\n",
       "    <tr>\n",
       "      <th>1</th>\n",
       "      <td>2</td>\n",
       "      <td>115712</td>\n",
       "      <td>True</td>\n",
       "      <td>Tue Oct 31 22:11:45 +0000 2017</td>\n",
       "      <td>@sprintcare and how do you propose we do that</td>\n",
       "      <td>NaN</td>\n",
       "      <td>1.0</td>\n",
       "    </tr>\n",
       "    <tr>\n",
       "      <th>2</th>\n",
       "      <td>3</td>\n",
       "      <td>115712</td>\n",
       "      <td>True</td>\n",
       "      <td>Tue Oct 31 22:08:27 +0000 2017</td>\n",
       "      <td>@sprintcare I have sent several private messag...</td>\n",
       "      <td>1</td>\n",
       "      <td>4.0</td>\n",
       "    </tr>\n",
       "    <tr>\n",
       "      <th>3</th>\n",
       "      <td>4</td>\n",
       "      <td>sprintcare</td>\n",
       "      <td>False</td>\n",
       "      <td>Tue Oct 31 21:54:49 +0000 2017</td>\n",
       "      <td>@115712 Please send us a Private Message so th...</td>\n",
       "      <td>3</td>\n",
       "      <td>5.0</td>\n",
       "    </tr>\n",
       "    <tr>\n",
       "      <th>4</th>\n",
       "      <td>5</td>\n",
       "      <td>115712</td>\n",
       "      <td>True</td>\n",
       "      <td>Tue Oct 31 21:49:35 +0000 2017</td>\n",
       "      <td>@sprintcare I did.</td>\n",
       "      <td>4</td>\n",
       "      <td>6.0</td>\n",
       "    </tr>\n",
       "  </tbody>\n",
       "</table>\n",
       "</div>"
      ],
      "text/plain": [
       "   tweet_id   author_id  inbound                      created_at  \\\n",
       "0         1  sprintcare    False  Tue Oct 31 22:10:47 +0000 2017   \n",
       "1         2      115712     True  Tue Oct 31 22:11:45 +0000 2017   \n",
       "2         3      115712     True  Tue Oct 31 22:08:27 +0000 2017   \n",
       "3         4  sprintcare    False  Tue Oct 31 21:54:49 +0000 2017   \n",
       "4         5      115712     True  Tue Oct 31 21:49:35 +0000 2017   \n",
       "\n",
       "                                                text response_tweet_id  \\\n",
       "0  @115712 I understand. I would like to assist y...                 2   \n",
       "1      @sprintcare and how do you propose we do that               NaN   \n",
       "2  @sprintcare I have sent several private messag...                 1   \n",
       "3  @115712 Please send us a Private Message so th...                 3   \n",
       "4                                 @sprintcare I did.                 4   \n",
       "\n",
       "   in_response_to_tweet_id  \n",
       "0                      3.0  \n",
       "1                      1.0  \n",
       "2                      4.0  \n",
       "3                      5.0  \n",
       "4                      6.0  "
      ]
     },
     "execution_count": 2,
     "metadata": {},
     "output_type": "execute_result"
    }
   ],
   "source": [
    "tweets = pd.read_csv('twcs.csv',encoding='utf-8')\n",
    "print(tweets.shape)\n",
    "tweets.head()"
   ]
  },
  {
   "cell_type": "code",
   "execution_count": 3,
   "metadata": {},
   "outputs": [
    {
     "name": "stdout",
     "output_type": "stream",
     "text": [
      "Data shape: (794299, 14)\n"
     ]
    },
    {
     "data": {
      "text/html": [
       "<div>\n",
       "<style scoped>\n",
       "    .dataframe tbody tr th:only-of-type {\n",
       "        vertical-align: middle;\n",
       "    }\n",
       "\n",
       "    .dataframe tbody tr th {\n",
       "        vertical-align: top;\n",
       "    }\n",
       "\n",
       "    .dataframe thead th {\n",
       "        text-align: right;\n",
       "    }\n",
       "</style>\n",
       "<table border=\"1\" class=\"dataframe\">\n",
       "  <thead>\n",
       "    <tr style=\"text-align: right;\">\n",
       "      <th></th>\n",
       "      <th>tweet_id_x</th>\n",
       "      <th>author_id_x</th>\n",
       "      <th>inbound_x</th>\n",
       "      <th>created_at_x</th>\n",
       "      <th>text_x</th>\n",
       "      <th>response_tweet_id_x</th>\n",
       "      <th>in_response_to_tweet_id_x</th>\n",
       "      <th>tweet_id_y</th>\n",
       "      <th>author_id_y</th>\n",
       "      <th>inbound_y</th>\n",
       "      <th>created_at_y</th>\n",
       "      <th>text_y</th>\n",
       "      <th>response_tweet_id_y</th>\n",
       "      <th>in_response_to_tweet_id_y</th>\n",
       "    </tr>\n",
       "  </thead>\n",
       "  <tbody>\n",
       "    <tr>\n",
       "      <th>0</th>\n",
       "      <td>8</td>\n",
       "      <td>115712</td>\n",
       "      <td>True</td>\n",
       "      <td>Tue Oct 31 21:45:10 +0000 2017</td>\n",
       "      <td>@sprintcare is the worst customer service</td>\n",
       "      <td>9,6,10</td>\n",
       "      <td>NaN</td>\n",
       "      <td>6</td>\n",
       "      <td>sprintcare</td>\n",
       "      <td>False</td>\n",
       "      <td>Tue Oct 31 21:46:24 +0000 2017</td>\n",
       "      <td>@115712 Can you please send us a private messa...</td>\n",
       "      <td>5,7</td>\n",
       "      <td>8.0</td>\n",
       "    </tr>\n",
       "    <tr>\n",
       "      <th>1</th>\n",
       "      <td>8</td>\n",
       "      <td>115712</td>\n",
       "      <td>True</td>\n",
       "      <td>Tue Oct 31 21:45:10 +0000 2017</td>\n",
       "      <td>@sprintcare is the worst customer service</td>\n",
       "      <td>9,6,10</td>\n",
       "      <td>NaN</td>\n",
       "      <td>9</td>\n",
       "      <td>sprintcare</td>\n",
       "      <td>False</td>\n",
       "      <td>Tue Oct 31 21:46:14 +0000 2017</td>\n",
       "      <td>@115712 I would love the chance to review the ...</td>\n",
       "      <td>NaN</td>\n",
       "      <td>8.0</td>\n",
       "    </tr>\n",
       "    <tr>\n",
       "      <th>2</th>\n",
       "      <td>8</td>\n",
       "      <td>115712</td>\n",
       "      <td>True</td>\n",
       "      <td>Tue Oct 31 21:45:10 +0000 2017</td>\n",
       "      <td>@sprintcare is the worst customer service</td>\n",
       "      <td>9,6,10</td>\n",
       "      <td>NaN</td>\n",
       "      <td>10</td>\n",
       "      <td>sprintcare</td>\n",
       "      <td>False</td>\n",
       "      <td>Tue Oct 31 21:45:59 +0000 2017</td>\n",
       "      <td>@115712 Hello! We never like our customers to ...</td>\n",
       "      <td>NaN</td>\n",
       "      <td>8.0</td>\n",
       "    </tr>\n",
       "    <tr>\n",
       "      <th>3</th>\n",
       "      <td>18</td>\n",
       "      <td>115713</td>\n",
       "      <td>True</td>\n",
       "      <td>Tue Oct 31 19:56:01 +0000 2017</td>\n",
       "      <td>@115714 y’all lie about your “great” connectio...</td>\n",
       "      <td>17</td>\n",
       "      <td>NaN</td>\n",
       "      <td>17</td>\n",
       "      <td>sprintcare</td>\n",
       "      <td>False</td>\n",
       "      <td>Tue Oct 31 19:59:13 +0000 2017</td>\n",
       "      <td>@115713 H there! We'd definitely like to work ...</td>\n",
       "      <td>16</td>\n",
       "      <td>18.0</td>\n",
       "    </tr>\n",
       "    <tr>\n",
       "      <th>4</th>\n",
       "      <td>20</td>\n",
       "      <td>115715</td>\n",
       "      <td>True</td>\n",
       "      <td>Tue Oct 31 22:03:34 +0000 2017</td>\n",
       "      <td>@115714 whenever I contact customer support, t...</td>\n",
       "      <td>19</td>\n",
       "      <td>NaN</td>\n",
       "      <td>19</td>\n",
       "      <td>sprintcare</td>\n",
       "      <td>False</td>\n",
       "      <td>Tue Oct 31 22:10:10 +0000 2017</td>\n",
       "      <td>@115715 Please send me a private message so th...</td>\n",
       "      <td>NaN</td>\n",
       "      <td>20.0</td>\n",
       "    </tr>\n",
       "  </tbody>\n",
       "</table>\n",
       "</div>"
      ],
      "text/plain": [
       "   tweet_id_x author_id_x  inbound_x                    created_at_x  \\\n",
       "0           8      115712       True  Tue Oct 31 21:45:10 +0000 2017   \n",
       "1           8      115712       True  Tue Oct 31 21:45:10 +0000 2017   \n",
       "2           8      115712       True  Tue Oct 31 21:45:10 +0000 2017   \n",
       "3          18      115713       True  Tue Oct 31 19:56:01 +0000 2017   \n",
       "4          20      115715       True  Tue Oct 31 22:03:34 +0000 2017   \n",
       "\n",
       "                                              text_x response_tweet_id_x  \\\n",
       "0          @sprintcare is the worst customer service              9,6,10   \n",
       "1          @sprintcare is the worst customer service              9,6,10   \n",
       "2          @sprintcare is the worst customer service              9,6,10   \n",
       "3  @115714 y’all lie about your “great” connectio...                  17   \n",
       "4  @115714 whenever I contact customer support, t...                  19   \n",
       "\n",
       "   in_response_to_tweet_id_x  tweet_id_y author_id_y  inbound_y  \\\n",
       "0                        NaN           6  sprintcare      False   \n",
       "1                        NaN           9  sprintcare      False   \n",
       "2                        NaN          10  sprintcare      False   \n",
       "3                        NaN          17  sprintcare      False   \n",
       "4                        NaN          19  sprintcare      False   \n",
       "\n",
       "                     created_at_y  \\\n",
       "0  Tue Oct 31 21:46:24 +0000 2017   \n",
       "1  Tue Oct 31 21:46:14 +0000 2017   \n",
       "2  Tue Oct 31 21:45:59 +0000 2017   \n",
       "3  Tue Oct 31 19:59:13 +0000 2017   \n",
       "4  Tue Oct 31 22:10:10 +0000 2017   \n",
       "\n",
       "                                              text_y response_tweet_id_y  \\\n",
       "0  @115712 Can you please send us a private messa...                 5,7   \n",
       "1  @115712 I would love the chance to review the ...                 NaN   \n",
       "2  @115712 Hello! We never like our customers to ...                 NaN   \n",
       "3  @115713 H there! We'd definitely like to work ...                  16   \n",
       "4  @115715 Please send me a private message so th...                 NaN   \n",
       "\n",
       "   in_response_to_tweet_id_y  \n",
       "0                        8.0  \n",
       "1                        8.0  \n",
       "2                        8.0  \n",
       "3                       18.0  \n",
       "4                       20.0  "
      ]
     },
     "execution_count": 3,
     "metadata": {},
     "output_type": "execute_result"
    }
   ],
   "source": [
    "first_inbound = tweets[pd.isnull(tweets.in_response_to_tweet_id) & tweets.inbound]\n",
    "\n",
    "QnR = pd.merge(first_inbound, tweets, left_on='tweet_id', \n",
    "                                  right_on='in_response_to_tweet_id')\n",
    "\n",
    "# Filter to only outbound replies (from companies)\n",
    "QnR = QnR[QnR.inbound_y ^ True]\n",
    "print(f'Data shape: {QnR.shape}')\n",
    "QnR.head()"
   ]
  },
  {
   "cell_type": "code",
   "execution_count": 4,
   "metadata": {},
   "outputs": [
    {
     "name": "stdout",
     "output_type": "stream",
     "text": [
      "Removing anonymized screen names in X...\n"
     ]
    },
    {
     "data": {
      "application/vnd.jupyter.widget-view+json": {
       "model_id": "286e49953d2348dba919b31ca38c5fa5",
       "version_major": 2,
       "version_minor": 0
      },
      "text/plain": [
       "  0%|          | 0/794299 [00:00<?, ?it/s]"
      ]
     },
     "metadata": {},
     "output_type": "display_data"
    },
    {
     "name": "stdout",
     "output_type": "stream",
     "text": [
      "Removing anonymized screen names in Y...\n"
     ]
    },
    {
     "data": {
      "application/vnd.jupyter.widget-view+json": {
       "model_id": "3e677d21f585470d9fddd7ecde5ef30f",
       "version_major": 2,
       "version_minor": 0
      },
      "text/plain": [
       "  0%|          | 0/794299 [00:00<?, ?it/s]"
      ]
     },
     "metadata": {},
     "output_type": "display_data"
    }
   ],
   "source": [
    "# removing anonymized screen names \n",
    "def sn_replace(match):\n",
    "    _sn = match.group(2).lower()\n",
    "    if not _sn.isnumeric():\n",
    "        # This is a company screen name\n",
    "        return match.group(1) + match.group(2)\n",
    "    return ''\n",
    "\n",
    "sn_re = re.compile('(\\W@|^@)([a-zA-Z0-9_]+)')\n",
    "print(\"Removing anonymized screen names in X...\")\n",
    "QnR[\"text_x\"] = QnR.text_x.progress_apply(lambda txt: sn_re.sub(sn_replace, txt))\n",
    "print(\"Removing anonymized screen names in Y...\")\n",
    "QnR[\"text_y\"] = QnR.text_y.progress_apply(lambda txt: sn_re.sub(sn_replace, txt))"
   ]
  },
  {
   "cell_type": "code",
   "execution_count": 5,
   "metadata": {},
   "outputs": [
    {
     "data": {
      "image/png": "[encoded data removed]",
      "text/plain": [
       "<Figure size 1000x800 with 1 Axes>"
      ]
     },
     "metadata": {},
     "output_type": "display_data"
    }
   ],
   "source": [
    "count = QnR.groupby(\"author_id_y\")[\"text_x\"].count()\n",
    "c = count[count>15000].plot(kind='barh',figsize=(10, 8), color='#619CFF', zorder=2, width=width,)\n",
    "c.set_ylabel('')\n",
    "plt.show()"
   ]
  },
  {
   "cell_type": "code",
   "execution_count": 6,
   "metadata": {},
   "outputs": [
    {
     "name": "stdout",
     "output_type": "stream",
     "text": [
      "Defaulting to user installation because normal site-packages is not writeable\n",
      "Collecting en-core-web-sm==3.6.0\n",
      "  Downloading https://github.com/explosion/spacy-models/releases/download/en_core_web_sm-3.6.0/en_core_web_sm-3.6.0-py3-none-any.whl (12.8 MB)\n",
      "\u001b[2K     \u001b[90m━━━━━━━━━━━━━━━━━━━━━━━━━━━━━━━━━━━━━━━━\u001b[0m \u001b[32m12.8/12.8 MB\u001b[0m \u001b[31m26.9 MB/s\u001b[0m eta \u001b[36m0:00:00\u001b[0m00:01\u001b[0m00:01\u001b[0m\n",
      "\u001b[?25hRequirement already satisfied: spacy<3.7.0,>=3.6.0 in /home/i4624/.local/lib/python3.10/site-packages (from en-core-web-sm==3.6.0) (3.6.0)\n",
      "Requirement already satisfied: spacy-legacy<3.1.0,>=3.0.11 in /home/i4624/.local/lib/python3.10/site-packages (from spacy<3.7.0,>=3.6.0->en-core-web-sm==3.6.0) (3.0.12)\n",
      "Requirement already satisfied: spacy-loggers<2.0.0,>=1.0.0 in /home/i4624/.local/lib/python3.10/site-packages (from spacy<3.7.0,>=3.6.0->en-core-web-sm==3.6.0) (1.0.4)\n",
      "Requirement already satisfied: murmurhash<1.1.0,>=0.28.0 in /home/i4624/.local/lib/python3.10/site-packages (from spacy<3.7.0,>=3.6.0->en-core-web-sm==3.6.0) (1.0.9)\n",
      "Requirement already satisfied: cymem<2.1.0,>=2.0.2 in /home/i4624/.local/lib/python3.10/site-packages (from spacy<3.7.0,>=3.6.0->en-core-web-sm==3.6.0) (2.0.7)\n",
      "Requirement already satisfied: preshed<3.1.0,>=3.0.2 in /home/i4624/.local/lib/python3.10/site-packages (from spacy<3.7.0,>=3.6.0->en-core-web-sm==3.6.0) (3.0.8)\n",
      "Requirement already satisfied: thinc<8.2.0,>=8.1.8 in /home/i4624/.local/lib/python3.10/site-packages (from spacy<3.7.0,>=3.6.0->en-core-web-sm==3.6.0) (8.1.10)\n",
      "Requirement already satisfied: wasabi<1.2.0,>=0.9.1 in /home/i4624/.local/lib/python3.10/site-packages (from spacy<3.7.0,>=3.6.0->en-core-web-sm==3.6.0) (0.10.1)\n",
      "Requirement already satisfied: srsly<3.0.0,>=2.4.3 in /home/i4624/.local/lib/python3.10/site-packages (from spacy<3.7.0,>=3.6.0->en-core-web-sm==3.6.0) (2.4.7)\n",
      "Requirement already satisfied: catalogue<2.1.0,>=2.0.6 in /home/i4624/.local/lib/python3.10/site-packages (from spacy<3.7.0,>=3.6.0->en-core-web-sm==3.6.0) (2.0.8)\n",
      "Requirement already satisfied: typer<0.10.0,>=0.3.0 in /home/i4624/.local/lib/python3.10/site-packages (from spacy<3.7.0,>=3.6.0->en-core-web-sm==3.6.0) (0.9.0)\n",
      "Requirement already satisfied: pathy>=0.10.0 in /home/i4624/.local/lib/python3.10/site-packages (from spacy<3.7.0,>=3.6.0->en-core-web-sm==3.6.0) (0.10.2)\n",
      "Requirement already satisfied: smart-open<7.0.0,>=5.2.1 in /home/i4624/.local/lib/python3.10/site-packages (from spacy<3.7.0,>=3.6.0->en-core-web-sm==3.6.0) (6.3.0)\n",
      "Requirement already satisfied: tqdm<5.0.0,>=4.38.0 in /home/i4624/.local/lib/python3.10/site-packages (from spacy<3.7.0,>=3.6.0->en-core-web-sm==3.6.0) (4.65.0)\n",
      "Requirement already satisfied: numpy>=1.15.0 in /home/i4624/.local/lib/python3.10/site-packages (from spacy<3.7.0,>=3.6.0->en-core-web-sm==3.6.0) (1.25.1)\n",
      "Requirement already satisfied: requests<3.0.0,>=2.13.0 in /usr/lib/python3/dist-packages (from spacy<3.7.0,>=3.6.0->en-core-web-sm==3.6.0) (2.25.1)\n",
      "Requirement already satisfied: pydantic!=1.8,!=1.8.1,<1.11.0,>=1.7.4 in /home/i4624/.local/lib/python3.10/site-packages (from spacy<3.7.0,>=3.6.0->en-core-web-sm==3.6.0) (1.10.11)\n",
      "Requirement already satisfied: jinja2 in /home/i4624/.local/lib/python3.10/site-packages (from spacy<3.7.0,>=3.6.0->en-core-web-sm==3.6.0) (3.1.2)\n",
      "Requirement already satisfied: setuptools in /usr/lib/python3/dist-packages (from spacy<3.7.0,>=3.6.0->en-core-web-sm==3.6.0) (59.6.0)\n",
      "Requirement already satisfied: packaging>=20.0 in /home/i4624/.local/lib/python3.10/site-packages (from spacy<3.7.0,>=3.6.0->en-core-web-sm==3.6.0) (23.1)\n",
      "Requirement already satisfied: langcodes<4.0.0,>=3.2.0 in /home/i4624/.local/lib/python3.10/site-packages (from spacy<3.7.0,>=3.6.0->en-core-web-sm==3.6.0) (3.3.0)\n",
      "Requirement already satisfied: typing-extensions>=4.2.0 in /home/i4624/.local/lib/python3.10/site-packages (from pydantic!=1.8,!=1.8.1,<1.11.0,>=1.7.4->spacy<3.7.0,>=3.6.0->en-core-web-sm==3.6.0) (4.7.1)\n",
      "Requirement already satisfied: blis<0.8.0,>=0.7.8 in /home/i4624/.local/lib/python3.10/site-packages (from thinc<8.2.0,>=8.1.8->spacy<3.7.0,>=3.6.0->en-core-web-sm==3.6.0) (0.7.10)\n",
      "Requirement already satisfied: confection<1.0.0,>=0.0.1 in /home/i4624/.local/lib/python3.10/site-packages (from thinc<8.2.0,>=8.1.8->spacy<3.7.0,>=3.6.0->en-core-web-sm==3.6.0) (0.1.0)\n",
      "Requirement already satisfied: click<9.0.0,>=7.1.1 in /usr/lib/python3/dist-packages (from typer<0.10.0,>=0.3.0->spacy<3.7.0,>=3.6.0->en-core-web-sm==3.6.0) (8.0.3)\n",
      "Requirement already satisfied: MarkupSafe>=2.0 in /home/i4624/.local/lib/python3.10/site-packages (from jinja2->spacy<3.7.0,>=3.6.0->en-core-web-sm==3.6.0) (2.1.3)\n",
      "\u001b[38;5;2m✔ Download and installation successful\u001b[0m\n",
      "You can now load the package via spacy.load('en_core_web_sm')\n"
     ]
    },
    {
     "name": "stderr",
     "output_type": "stream",
     "text": [
      "\u001b[33mDEPRECATION: distro-info 1.1build1 has a non-standard version number. pip 23.3 will enforce this behaviour change. A possible replacement is to upgrade to a newer version of distro-info or contact the author to suggest that they release a version with a conforming version number. Discussion can be found at https://github.com/pypa/pip/issues/12063\u001b[0m\u001b[33m\n",
      "\u001b[0m\u001b[33mDEPRECATION: python-debian 0.1.43ubuntu1 has a non-standard version number. pip 23.3 will enforce this behaviour change. A possible replacement is to upgrade to a newer version of python-debian or contact the author to suggest that they release a version with a conforming version number. Discussion can be found at https://github.com/pypa/pip/issues/12063\u001b[0m\u001b[33m\n",
      "\u001b[0m"
     ]
    }
   ],
   "source": [
    "spacy.cli.download(\"en_core_web_sm\")"
   ]
  },
  {
   "cell_type": "code",
   "execution_count": 7,
   "metadata": {},
   "outputs": [],
   "source": [
    "nlp_cld = spacy.load('en_core_web_sm')"
   ]
  },
  {
   "cell_type": "code",
   "execution_count": 39,
   "metadata": {},
   "outputs": [],
   "source": [
    "from spacy_langdetect import LanguageDetector\n",
    "from spacy.language import Language\n",
    "\n",
    "@Language.factory('cld_language_detector')\n",
    "def language_detector(nlp, name):\n",
    "    return spacy_cld.LanguageDetector()"
   ]
  },
  {
   "cell_type": "code",
   "execution_count": 9,
   "metadata": {},
   "outputs": [],
   "source": [
    "language_detector = spacy_cld.LanguageDetector()"
   ]
  },
  {
   "cell_type": "code",
   "execution_count": 10,
   "metadata": {},
   "outputs": [],
   "source": [
    "AppleQnR = QnR[QnR[\"author_id_y\"]==\"AppleSupport\"]"
   ]
  },
  {
   "cell_type": "code",
   "execution_count": 11,
   "metadata": {},
   "outputs": [
    {
     "name": "stdout",
     "output_type": "stream",
     "text": [
      "My iPhone is so damn glitchy, not sure this upgrade to the 8 was worth it. I can’t even send pictures 😡 @AppleSupport\n",
      "['en']\n",
      "{'en': 0.99}\n"
     ]
    }
   ],
   "source": [
    "doc = nlp_cld(AppleQnR.iloc[100][\"text_x\"])\n",
    "\n",
    "print(doc)\n",
    "print(doc._.languages)  \n",
    "print(doc._.language_scores)"
   ]
  },
  {
   "cell_type": "code",
   "execution_count": 12,
   "metadata": {},
   "outputs": [
    {
     "name": "stderr",
     "output_type": "stream",
     "text": [
      "/tmp/ipykernel_136795/2306739620.py:6: TqdmDeprecationWarning: This function will be removed in tqdm==5.0.0\n",
      "Please use `tqdm.notebook.tqdm` instead of `tqdm.tqdm_notebook`\n",
      "  for i,doc in tqdm_notebook(enumerate(nlp_cld.pipe(AppleQnR[\"text_x\"], batch_size=512))):\n"
     ]
    },
    {
     "data": {
      "application/vnd.jupyter.widget-view+json": {
       "model_id": "61bc6ef4317245709e21b498d0fffe98",
       "version_major": 2,
       "version_minor": 0
      },
      "text/plain": [
       "0it [00:00, ?it/s]"
      ]
     },
     "metadata": {},
     "output_type": "display_data"
    }
   ],
   "source": [
    "from tqdm import tqdm_notebook\n",
    "\n",
    "\n",
    "mask = []\n",
    "try:\n",
    "    for i,doc in tqdm_notebook(enumerate(nlp_cld.pipe(AppleQnR[\"text_x\"], batch_size=512))):\n",
    "            if 'en' not in doc._.languages or len(doc._.languages) != 1:\n",
    "                mask.append(False)\n",
    "            else:\n",
    "                mask.append(True)\n",
    "except Exception:\n",
    "    print(\"excepted \")"
   ]
  },
  {
   "cell_type": "code",
   "execution_count": 13,
   "metadata": {},
   "outputs": [
    {
     "data": {
      "text/html": [
       "<div>\n",
       "<style scoped>\n",
       "    .dataframe tbody tr th:only-of-type {\n",
       "        vertical-align: middle;\n",
       "    }\n",
       "\n",
       "    .dataframe tbody tr th {\n",
       "        vertical-align: top;\n",
       "    }\n",
       "\n",
       "    .dataframe thead th {\n",
       "        text-align: right;\n",
       "    }\n",
       "</style>\n",
       "<table border=\"1\" class=\"dataframe\">\n",
       "  <thead>\n",
       "    <tr style=\"text-align: right;\">\n",
       "      <th></th>\n",
       "      <th>tweet_id_x</th>\n",
       "      <th>author_id_x</th>\n",
       "      <th>inbound_x</th>\n",
       "      <th>created_at_x</th>\n",
       "      <th>text_x</th>\n",
       "      <th>response_tweet_id_x</th>\n",
       "      <th>in_response_to_tweet_id_x</th>\n",
       "      <th>tweet_id_y</th>\n",
       "      <th>author_id_y</th>\n",
       "      <th>inbound_y</th>\n",
       "      <th>created_at_y</th>\n",
       "      <th>text_y</th>\n",
       "      <th>response_tweet_id_y</th>\n",
       "      <th>in_response_to_tweet_id_y</th>\n",
       "    </tr>\n",
       "  </thead>\n",
       "  <tbody>\n",
       "    <tr>\n",
       "      <th>619240</th>\n",
       "      <td>2151171</td>\n",
       "      <td>632195</td>\n",
       "      <td>True</td>\n",
       "      <td>Thu Nov 09 01:13:53 +0000 2017</td>\n",
       "      <td>.@AppleSupport when are you guys going to fix ...</td>\n",
       "      <td>2151170</td>\n",
       "      <td>NaN</td>\n",
       "      <td>2151170</td>\n",
       "      <td>AppleSupport</td>\n",
       "      <td>False</td>\n",
       "      <td>Thu Nov 09 01:30:00 +0000 2017</td>\n",
       "      <td>Here’s what you can do to work around the iss...</td>\n",
       "      <td>NaN</td>\n",
       "      <td>2151171.0</td>\n",
       "    </tr>\n",
       "    <tr>\n",
       "      <th>310075</th>\n",
       "      <td>1132802</td>\n",
       "      <td>386934</td>\n",
       "      <td>True</td>\n",
       "      <td>Thu Nov 30 18:23:00 +0000 2017</td>\n",
       "      <td>Battery life on my MacBook Air is trash now, w...</td>\n",
       "      <td>1132801</td>\n",
       "      <td>NaN</td>\n",
       "      <td>1132801</td>\n",
       "      <td>AppleSupport</td>\n",
       "      <td>False</td>\n",
       "      <td>Thu Nov 30 18:45:31 +0000 2017</td>\n",
       "      <td>We'd love to help find the best solution so y...</td>\n",
       "      <td>NaN</td>\n",
       "      <td>1132802.0</td>\n",
       "    </tr>\n",
       "    <tr>\n",
       "      <th>192177</th>\n",
       "      <td>711664</td>\n",
       "      <td>290194</td>\n",
       "      <td>True</td>\n",
       "      <td>Tue Oct 10 21:02:02 +0000 2017</td>\n",
       "      <td>@AppleSupport is this email as bogus as I thin...</td>\n",
       "      <td>711663</td>\n",
       "      <td>NaN</td>\n",
       "      <td>711663</td>\n",
       "      <td>AppleSupport</td>\n",
       "      <td>False</td>\n",
       "      <td>Tue Oct 10 21:48:00 +0000 2017</td>\n",
       "      <td>You are right to question this email. Here's ...</td>\n",
       "      <td>NaN</td>\n",
       "      <td>711664.0</td>\n",
       "    </tr>\n",
       "    <tr>\n",
       "      <th>536926</th>\n",
       "      <td>1903559</td>\n",
       "      <td>567286</td>\n",
       "      <td>True</td>\n",
       "      <td>Wed Oct 18 11:38:22 +0000 2017</td>\n",
       "      <td>The most annoying bug in iOS 11\\n#iphone #app...</td>\n",
       "      <td>1903558</td>\n",
       "      <td>NaN</td>\n",
       "      <td>1903558</td>\n",
       "      <td>AppleSupport</td>\n",
       "      <td>False</td>\n",
       "      <td>Wed Oct 18 13:51:45 +0000 2017</td>\n",
       "      <td>We're here to help. Let's take this to DM so ...</td>\n",
       "      <td>NaN</td>\n",
       "      <td>1903559.0</td>\n",
       "    </tr>\n",
       "    <tr>\n",
       "      <th>484192</th>\n",
       "      <td>1741605</td>\n",
       "      <td>525416</td>\n",
       "      <td>True</td>\n",
       "      <td>Tue Nov 07 14:27:22 +0000 2017</td>\n",
       "      <td>Ok what is up with this??? Like how do we fix ...</td>\n",
       "      <td>1741604</td>\n",
       "      <td>NaN</td>\n",
       "      <td>1741604</td>\n",
       "      <td>AppleSupport</td>\n",
       "      <td>False</td>\n",
       "      <td>Tue Nov 07 17:22:35 +0000 2017</td>\n",
       "      <td>Here’s what you can do to work around the iss...</td>\n",
       "      <td>NaN</td>\n",
       "      <td>1741605.0</td>\n",
       "    </tr>\n",
       "    <tr>\n",
       "      <th>726424</th>\n",
       "      <td>2500957</td>\n",
       "      <td>713449</td>\n",
       "      <td>True</td>\n",
       "      <td>Wed Nov 15 18:59:22 +0000 2017</td>\n",
       "      <td>@AppleSupport how do I change my restrictions ...</td>\n",
       "      <td>2500956</td>\n",
       "      <td>NaN</td>\n",
       "      <td>2500956</td>\n",
       "      <td>AppleSupport</td>\n",
       "      <td>False</td>\n",
       "      <td>Wed Nov 15 19:14:34 +0000 2017</td>\n",
       "      <td>Check out this link for the steps to change y...</td>\n",
       "      <td>NaN</td>\n",
       "      <td>2500957.0</td>\n",
       "    </tr>\n",
       "    <tr>\n",
       "      <th>801330</th>\n",
       "      <td>2746172</td>\n",
       "      <td>769030</td>\n",
       "      <td>True</td>\n",
       "      <td>Mon Nov 20 21:59:43 +0000 2017</td>\n",
       "      <td>@AppleSupport I took screenshots every time #i...</td>\n",
       "      <td>2746171</td>\n",
       "      <td>NaN</td>\n",
       "      <td>2746171</td>\n",
       "      <td>AppleSupport</td>\n",
       "      <td>False</td>\n",
       "      <td>Mon Nov 20 22:07:00 +0000 2017</td>\n",
       "      <td>That's not the experience we'd hope you have....</td>\n",
       "      <td>NaN</td>\n",
       "      <td>2746172.0</td>\n",
       "    </tr>\n",
       "    <tr>\n",
       "      <th>276197</th>\n",
       "      <td>1014404</td>\n",
       "      <td>360031</td>\n",
       "      <td>True</td>\n",
       "      <td>Sat Oct 14 14:10:24 +0000 2017</td>\n",
       "      <td>@AppleSupport yesterday your systems were down...</td>\n",
       "      <td>1014403</td>\n",
       "      <td>NaN</td>\n",
       "      <td>1014403</td>\n",
       "      <td>AppleSupport</td>\n",
       "      <td>False</td>\n",
       "      <td>Sat Oct 14 15:03:00 +0000 2017</td>\n",
       "      <td>You would need to reach out to the store to f...</td>\n",
       "      <td>NaN</td>\n",
       "      <td>1014404.0</td>\n",
       "    </tr>\n",
       "    <tr>\n",
       "      <th>484416</th>\n",
       "      <td>1742387</td>\n",
       "      <td>525583</td>\n",
       "      <td>True</td>\n",
       "      <td>Tue Nov 07 05:26:11 +0000 2017</td>\n",
       "      <td>What happened to iOS? Haven’t had this many gl...</td>\n",
       "      <td>1742386</td>\n",
       "      <td>NaN</td>\n",
       "      <td>1742386</td>\n",
       "      <td>AppleSupport</td>\n",
       "      <td>False</td>\n",
       "      <td>Tue Nov 07 14:29:32 +0000 2017</td>\n",
       "      <td>We'd love to help with any issues you're expe...</td>\n",
       "      <td>NaN</td>\n",
       "      <td>1742387.0</td>\n",
       "    </tr>\n",
       "    <tr>\n",
       "      <th>193796</th>\n",
       "      <td>717215</td>\n",
       "      <td>291708</td>\n",
       "      <td>True</td>\n",
       "      <td>Tue Oct 10 23:55:03 +0000 2017</td>\n",
       "      <td>@AppleSupport - major issues w iOS 11.0.2: ter...</td>\n",
       "      <td>717214</td>\n",
       "      <td>NaN</td>\n",
       "      <td>717214</td>\n",
       "      <td>AppleSupport</td>\n",
       "      <td>False</td>\n",
       "      <td>Wed Oct 11 00:43:30 +0000 2017</td>\n",
       "      <td>We'll gladly assist. What device are you runn...</td>\n",
       "      <td>NaN</td>\n",
       "      <td>717215.0</td>\n",
       "    </tr>\n",
       "    <tr>\n",
       "      <th>523674</th>\n",
       "      <td>1864163</td>\n",
       "      <td>556960</td>\n",
       "      <td>True</td>\n",
       "      <td>Fri Oct 20 09:20:39 +0000 2017</td>\n",
       "      <td>@AppleSupport ever since I updated my phone it...</td>\n",
       "      <td>1864162</td>\n",
       "      <td>NaN</td>\n",
       "      <td>1864162</td>\n",
       "      <td>AppleSupport</td>\n",
       "      <td>False</td>\n",
       "      <td>Fri Oct 20 14:21:33 +0000 2017</td>\n",
       "      <td>We'd love to gather more details about these ...</td>\n",
       "      <td>NaN</td>\n",
       "      <td>1864163.0</td>\n",
       "    </tr>\n",
       "    <tr>\n",
       "      <th>523807</th>\n",
       "      <td>1864536</td>\n",
       "      <td>557059</td>\n",
       "      <td>True</td>\n",
       "      <td>Fri Oct 20 12:45:06 +0000 2017</td>\n",
       "      <td>@AppleSupport currently needing some help http...</td>\n",
       "      <td>1864534</td>\n",
       "      <td>NaN</td>\n",
       "      <td>1864534</td>\n",
       "      <td>AppleSupport</td>\n",
       "      <td>False</td>\n",
       "      <td>Fri Oct 20 15:06:31 +0000 2017</td>\n",
       "      <td>Thanks for reaching out to us. Does the incor...</td>\n",
       "      <td>1864535</td>\n",
       "      <td>1864536.0</td>\n",
       "    </tr>\n",
       "    <tr>\n",
       "      <th>492659</th>\n",
       "      <td>1770378</td>\n",
       "      <td>532219</td>\n",
       "      <td>True</td>\n",
       "      <td>Wed Nov 08 00:29:05 +0000 2017</td>\n",
       "      <td>fix this shit!</td>\n",
       "      <td>1770377,1770379</td>\n",
       "      <td>NaN</td>\n",
       "      <td>1770377</td>\n",
       "      <td>AppleSupport</td>\n",
       "      <td>False</td>\n",
       "      <td>Wed Nov 08 01:07:00 +0000 2017</td>\n",
       "      <td>Let's see how we can help. Send us a DM with ...</td>\n",
       "      <td>NaN</td>\n",
       "      <td>1770378.0</td>\n",
       "    </tr>\n",
       "    <tr>\n",
       "      <th>195325</th>\n",
       "      <td>722958</td>\n",
       "      <td>293105</td>\n",
       "      <td>True</td>\n",
       "      <td>Fri Oct 06 13:38:22 +0000 2017</td>\n",
       "      <td>@AppleSupport nice job bro. iphone7plus ios 11...</td>\n",
       "      <td>722957</td>\n",
       "      <td>NaN</td>\n",
       "      <td>722957</td>\n",
       "      <td>AppleSupport</td>\n",
       "      <td>False</td>\n",
       "      <td>Fri Oct 06 15:53:34 +0000 2017</td>\n",
       "      <td>If you're having issues with the keyboard bei...</td>\n",
       "      <td>NaN</td>\n",
       "      <td>722958.0</td>\n",
       "    </tr>\n",
       "  </tbody>\n",
       "</table>\n",
       "</div>"
      ],
      "text/plain": [
       "        tweet_id_x author_id_x  inbound_x                    created_at_x  \\\n",
       "619240     2151171      632195       True  Thu Nov 09 01:13:53 +0000 2017   \n",
       "310075     1132802      386934       True  Thu Nov 30 18:23:00 +0000 2017   \n",
       "192177      711664      290194       True  Tue Oct 10 21:02:02 +0000 2017   \n",
       "536926     1903559      567286       True  Wed Oct 18 11:38:22 +0000 2017   \n",
       "484192     1741605      525416       True  Tue Nov 07 14:27:22 +0000 2017   \n",
       "726424     2500957      713449       True  Wed Nov 15 18:59:22 +0000 2017   \n",
       "801330     2746172      769030       True  Mon Nov 20 21:59:43 +0000 2017   \n",
       "276197     1014404      360031       True  Sat Oct 14 14:10:24 +0000 2017   \n",
       "484416     1742387      525583       True  Tue Nov 07 05:26:11 +0000 2017   \n",
       "193796      717215      291708       True  Tue Oct 10 23:55:03 +0000 2017   \n",
       "523674     1864163      556960       True  Fri Oct 20 09:20:39 +0000 2017   \n",
       "523807     1864536      557059       True  Fri Oct 20 12:45:06 +0000 2017   \n",
       "492659     1770378      532219       True  Wed Nov 08 00:29:05 +0000 2017   \n",
       "195325      722958      293105       True  Fri Oct 06 13:38:22 +0000 2017   \n",
       "\n",
       "                                                   text_x response_tweet_id_x  \\\n",
       "619240  .@AppleSupport when are you guys going to fix ...             2151170   \n",
       "310075  Battery life on my MacBook Air is trash now, w...             1132801   \n",
       "192177  @AppleSupport is this email as bogus as I thin...              711663   \n",
       "536926   The most annoying bug in iOS 11\\n#iphone #app...             1903558   \n",
       "484192  Ok what is up with this??? Like how do we fix ...             1741604   \n",
       "726424  @AppleSupport how do I change my restrictions ...             2500956   \n",
       "801330  @AppleSupport I took screenshots every time #i...             2746171   \n",
       "276197  @AppleSupport yesterday your systems were down...             1014403   \n",
       "484416  What happened to iOS? Haven’t had this many gl...             1742386   \n",
       "193796  @AppleSupport - major issues w iOS 11.0.2: ter...              717214   \n",
       "523674  @AppleSupport ever since I updated my phone it...             1864162   \n",
       "523807  @AppleSupport currently needing some help http...             1864534   \n",
       "492659                                     fix this shit!     1770377,1770379   \n",
       "195325  @AppleSupport nice job bro. iphone7plus ios 11...              722957   \n",
       "\n",
       "        in_response_to_tweet_id_x  tweet_id_y   author_id_y  inbound_y  \\\n",
       "619240                        NaN     2151170  AppleSupport      False   \n",
       "310075                        NaN     1132801  AppleSupport      False   \n",
       "192177                        NaN      711663  AppleSupport      False   \n",
       "536926                        NaN     1903558  AppleSupport      False   \n",
       "484192                        NaN     1741604  AppleSupport      False   \n",
       "726424                        NaN     2500956  AppleSupport      False   \n",
       "801330                        NaN     2746171  AppleSupport      False   \n",
       "276197                        NaN     1014403  AppleSupport      False   \n",
       "484416                        NaN     1742386  AppleSupport      False   \n",
       "193796                        NaN      717214  AppleSupport      False   \n",
       "523674                        NaN     1864162  AppleSupport      False   \n",
       "523807                        NaN     1864534  AppleSupport      False   \n",
       "492659                        NaN     1770377  AppleSupport      False   \n",
       "195325                        NaN      722957  AppleSupport      False   \n",
       "\n",
       "                          created_at_y  \\\n",
       "619240  Thu Nov 09 01:30:00 +0000 2017   \n",
       "310075  Thu Nov 30 18:45:31 +0000 2017   \n",
       "192177  Tue Oct 10 21:48:00 +0000 2017   \n",
       "536926  Wed Oct 18 13:51:45 +0000 2017   \n",
       "484192  Tue Nov 07 17:22:35 +0000 2017   \n",
       "726424  Wed Nov 15 19:14:34 +0000 2017   \n",
       "801330  Mon Nov 20 22:07:00 +0000 2017   \n",
       "276197  Sat Oct 14 15:03:00 +0000 2017   \n",
       "484416  Tue Nov 07 14:29:32 +0000 2017   \n",
       "193796  Wed Oct 11 00:43:30 +0000 2017   \n",
       "523674  Fri Oct 20 14:21:33 +0000 2017   \n",
       "523807  Fri Oct 20 15:06:31 +0000 2017   \n",
       "492659  Wed Nov 08 01:07:00 +0000 2017   \n",
       "195325  Fri Oct 06 15:53:34 +0000 2017   \n",
       "\n",
       "                                                   text_y response_tweet_id_y  \\\n",
       "619240   Here’s what you can do to work around the iss...                 NaN   \n",
       "310075   We'd love to help find the best solution so y...                 NaN   \n",
       "192177   You are right to question this email. Here's ...                 NaN   \n",
       "536926   We're here to help. Let's take this to DM so ...                 NaN   \n",
       "484192   Here’s what you can do to work around the iss...                 NaN   \n",
       "726424   Check out this link for the steps to change y...                 NaN   \n",
       "801330   That's not the experience we'd hope you have....                 NaN   \n",
       "276197   You would need to reach out to the store to f...                 NaN   \n",
       "484416   We'd love to help with any issues you're expe...                 NaN   \n",
       "193796   We'll gladly assist. What device are you runn...                 NaN   \n",
       "523674   We'd love to gather more details about these ...                 NaN   \n",
       "523807   Thanks for reaching out to us. Does the incor...             1864535   \n",
       "492659   Let's see how we can help. Send us a DM with ...                 NaN   \n",
       "195325   If you're having issues with the keyboard bei...                 NaN   \n",
       "\n",
       "        in_response_to_tweet_id_y  \n",
       "619240                  2151171.0  \n",
       "310075                  1132802.0  \n",
       "192177                   711664.0  \n",
       "536926                  1903559.0  \n",
       "484192                  1741605.0  \n",
       "726424                  2500957.0  \n",
       "801330                  2746172.0  \n",
       "276197                  1014404.0  \n",
       "484416                  1742387.0  \n",
       "193796                   717215.0  \n",
       "523674                  1864163.0  \n",
       "523807                  1864536.0  \n",
       "492659                  1770378.0  \n",
       "195325                   722958.0  "
      ]
     },
     "execution_count": 13,
     "metadata": {},
     "output_type": "execute_result"
    }
   ],
   "source": [
    "AppleQnR = AppleQnR[mask]\n",
    "# sample a random fraction to visually ensure that we have only English tweets\n",
    "AppleQnR.sample(frac=0.0002)   "
   ]
  },
  {
   "cell_type": "code",
   "execution_count": 14,
   "metadata": {},
   "outputs": [
    {
     "data": {
      "text/plain": [
       "875031    Before installing iOS 11 on my iPhone, I could...\n",
       "875032    Travelled over an hour to Store to get repairs...\n",
       "875065    @AppleSupport pretty much all of my photos hav...\n",
       "875102    What does this mean please @AppleSupport ‘cann...\n",
       "875103    @AppleSupport why is my iPhone 7 constantly se...\n",
       "875110    anyone having issues with #osx #HighSierra and...\n",
       "875147    Hey @AppleSupport - not being able to duplicat...\n",
       "875148    Yo @AppleSupport is that weird glitch w/ the c...\n",
       "875171    What the fuck @AppleSupport  my phone keeps ha...\n",
       "875199    Is anyone having #iphone issues with there pho...\n",
       "Name: text_x, dtype: object"
      ]
     },
     "execution_count": 14,
     "metadata": {},
     "output_type": "execute_result"
    }
   ],
   "source": [
    "AppleQnR.tail(10)[\"text_x\"]"
   ]
  },
  {
   "cell_type": "code",
   "execution_count": 15,
   "metadata": {},
   "outputs": [
    {
     "name": "stdout",
     "output_type": "stream",
     "text": [
      "Defaulting to user installation because normal site-packages is not writeable\n",
      "Collecting en-core-web-lg==3.6.0\n",
      "  Downloading https://github.com/explosion/spacy-models/releases/download/en_core_web_lg-3.6.0/en_core_web_lg-3.6.0-py3-none-any.whl (587.7 MB)\n",
      "\u001b[2K     \u001b[90m━━━━━━━━━━━━━━━━━━━━━━━━━━━━━━━━━━━━━━━\u001b[0m \u001b[32m587.7/587.7 MB\u001b[0m \u001b[31m4.7 MB/s\u001b[0m eta \u001b[36m0:00:00\u001b[0m00:01\u001b[0m00:01\u001b[0m\n",
      "\u001b[?25hRequirement already satisfied: spacy<3.7.0,>=3.6.0 in /home/i4624/.local/lib/python3.10/site-packages (from en-core-web-lg==3.6.0) (3.6.0)\n",
      "Requirement already satisfied: spacy-legacy<3.1.0,>=3.0.11 in /home/i4624/.local/lib/python3.10/site-packages (from spacy<3.7.0,>=3.6.0->en-core-web-lg==3.6.0) (3.0.12)\n",
      "Requirement already satisfied: spacy-loggers<2.0.0,>=1.0.0 in /home/i4624/.local/lib/python3.10/site-packages (from spacy<3.7.0,>=3.6.0->en-core-web-lg==3.6.0) (1.0.4)\n",
      "Requirement already satisfied: murmurhash<1.1.0,>=0.28.0 in /home/i4624/.local/lib/python3.10/site-packages (from spacy<3.7.0,>=3.6.0->en-core-web-lg==3.6.0) (1.0.9)\n",
      "Requirement already satisfied: cymem<2.1.0,>=2.0.2 in /home/i4624/.local/lib/python3.10/site-packages (from spacy<3.7.0,>=3.6.0->en-core-web-lg==3.6.0) (2.0.7)\n",
      "Requirement already satisfied: preshed<3.1.0,>=3.0.2 in /home/i4624/.local/lib/python3.10/site-packages (from spacy<3.7.0,>=3.6.0->en-core-web-lg==3.6.0) (3.0.8)\n",
      "Requirement already satisfied: thinc<8.2.0,>=8.1.8 in /home/i4624/.local/lib/python3.10/site-packages (from spacy<3.7.0,>=3.6.0->en-core-web-lg==3.6.0) (8.1.10)\n",
      "Requirement already satisfied: wasabi<1.2.0,>=0.9.1 in /home/i4624/.local/lib/python3.10/site-packages (from spacy<3.7.0,>=3.6.0->en-core-web-lg==3.6.0) (0.10.1)\n",
      "Requirement already satisfied: srsly<3.0.0,>=2.4.3 in /home/i4624/.local/lib/python3.10/site-packages (from spacy<3.7.0,>=3.6.0->en-core-web-lg==3.6.0) (2.4.7)\n",
      "Requirement already satisfied: catalogue<2.1.0,>=2.0.6 in /home/i4624/.local/lib/python3.10/site-packages (from spacy<3.7.0,>=3.6.0->en-core-web-lg==3.6.0) (2.0.8)\n",
      "Requirement already satisfied: typer<0.10.0,>=0.3.0 in /home/i4624/.local/lib/python3.10/site-packages (from spacy<3.7.0,>=3.6.0->en-core-web-lg==3.6.0) (0.9.0)\n",
      "Requirement already satisfied: pathy>=0.10.0 in /home/i4624/.local/lib/python3.10/site-packages (from spacy<3.7.0,>=3.6.0->en-core-web-lg==3.6.0) (0.10.2)\n",
      "Requirement already satisfied: smart-open<7.0.0,>=5.2.1 in /home/i4624/.local/lib/python3.10/site-packages (from spacy<3.7.0,>=3.6.0->en-core-web-lg==3.6.0) (6.3.0)\n",
      "Requirement already satisfied: tqdm<5.0.0,>=4.38.0 in /home/i4624/.local/lib/python3.10/site-packages (from spacy<3.7.0,>=3.6.0->en-core-web-lg==3.6.0) (4.65.0)\n",
      "Requirement already satisfied: numpy>=1.15.0 in /home/i4624/.local/lib/python3.10/site-packages (from spacy<3.7.0,>=3.6.0->en-core-web-lg==3.6.0) (1.25.1)\n",
      "Requirement already satisfied: requests<3.0.0,>=2.13.0 in /usr/lib/python3/dist-packages (from spacy<3.7.0,>=3.6.0->en-core-web-lg==3.6.0) (2.25.1)\n",
      "Requirement already satisfied: pydantic!=1.8,!=1.8.1,<1.11.0,>=1.7.4 in /home/i4624/.local/lib/python3.10/site-packages (from spacy<3.7.0,>=3.6.0->en-core-web-lg==3.6.0) (1.10.11)\n",
      "Requirement already satisfied: jinja2 in /home/i4624/.local/lib/python3.10/site-packages (from spacy<3.7.0,>=3.6.0->en-core-web-lg==3.6.0) (3.1.2)\n",
      "Requirement already satisfied: setuptools in /usr/lib/python3/dist-packages (from spacy<3.7.0,>=3.6.0->en-core-web-lg==3.6.0) (59.6.0)\n",
      "Requirement already satisfied: packaging>=20.0 in /home/i4624/.local/lib/python3.10/site-packages (from spacy<3.7.0,>=3.6.0->en-core-web-lg==3.6.0) (23.1)\n",
      "Requirement already satisfied: langcodes<4.0.0,>=3.2.0 in /home/i4624/.local/lib/python3.10/site-packages (from spacy<3.7.0,>=3.6.0->en-core-web-lg==3.6.0) (3.3.0)\n",
      "Requirement already satisfied: typing-extensions>=4.2.0 in /home/i4624/.local/lib/python3.10/site-packages (from pydantic!=1.8,!=1.8.1,<1.11.0,>=1.7.4->spacy<3.7.0,>=3.6.0->en-core-web-lg==3.6.0) (4.7.1)\n",
      "Requirement already satisfied: blis<0.8.0,>=0.7.8 in /home/i4624/.local/lib/python3.10/site-packages (from thinc<8.2.0,>=8.1.8->spacy<3.7.0,>=3.6.0->en-core-web-lg==3.6.0) (0.7.10)\n",
      "Requirement already satisfied: confection<1.0.0,>=0.0.1 in /home/i4624/.local/lib/python3.10/site-packages (from thinc<8.2.0,>=8.1.8->spacy<3.7.0,>=3.6.0->en-core-web-lg==3.6.0) (0.1.0)\n",
      "Requirement already satisfied: click<9.0.0,>=7.1.1 in /usr/lib/python3/dist-packages (from typer<0.10.0,>=0.3.0->spacy<3.7.0,>=3.6.0->en-core-web-lg==3.6.0) (8.0.3)\n",
      "Requirement already satisfied: MarkupSafe>=2.0 in /home/i4624/.local/lib/python3.10/site-packages (from jinja2->spacy<3.7.0,>=3.6.0->en-core-web-lg==3.6.0) (2.1.3)\n"
     ]
    },
    {
     "name": "stderr",
     "output_type": "stream",
     "text": [
      "\u001b[33mDEPRECATION: distro-info 1.1build1 has a non-standard version number. pip 23.3 will enforce this behaviour change. A possible replacement is to upgrade to a newer version of distro-info or contact the author to suggest that they release a version with a conforming version number. Discussion can be found at https://github.com/pypa/pip/issues/12063\u001b[0m\u001b[33m\n",
      "\u001b[0m\u001b[33mDEPRECATION: python-debian 0.1.43ubuntu1 has a non-standard version number. pip 23.3 will enforce this behaviour change. A possible replacement is to upgrade to a newer version of python-debian or contact the author to suggest that they release a version with a conforming version number. Discussion can be found at https://github.com/pypa/pip/issues/12063\u001b[0m\u001b[33m\n",
      "\u001b[0m"
     ]
    },
    {
     "name": "stdout",
     "output_type": "stream",
     "text": [
      "Installing collected packages: en-core-web-lg\n",
      "Successfully installed en-core-web-lg-3.6.0\n",
      "\u001b[38;5;2m✔ Download and installation successful\u001b[0m\n",
      "You can now load the package via spacy.load('en_core_web_lg')\n"
     ]
    }
   ],
   "source": [
    "spacy.cli.download(\"en_core_web_lg\")"
   ]
  },
  {
   "cell_type": "code",
   "execution_count": 18,
   "metadata": {},
   "outputs": [],
   "source": [
    "from spacymoji import Emoji\n",
    "@Language.factory('emoji2')\n",
    "def language_detector(nlp, name):\n",
    "    return Emoji()"
   ]
  },
  {
   "cell_type": "code",
   "execution_count": 19,
   "metadata": {},
   "outputs": [
    {
     "ename": "TypeError",
     "evalue": "Emoji.__init__() missing 1 required positional argument: 'nlp'",
     "output_type": "error",
     "traceback": [
      "\u001b[0;31m---------------------------------------------------------------------------\u001b[0m",
      "\u001b[0;31mTypeError\u001b[0m                                 Traceback (most recent call last)",
      "Cell \u001b[0;32mIn[19], line 4\u001b[0m\n\u001b[1;32m      1\u001b[0m nlp \u001b[39m=\u001b[39m spacy\u001b[39m.\u001b[39mload(\u001b[39m\"\u001b[39m\u001b[39men_core_web_lg\u001b[39m\u001b[39m\"\u001b[39m)\n\u001b[1;32m      3\u001b[0m emoji \u001b[39m=\u001b[39m Emoji(nlp)\n\u001b[0;32m----> 4\u001b[0m nlp\u001b[39m.\u001b[39;49madd_pipe(\u001b[39m'\u001b[39;49m\u001b[39memoji2\u001b[39;49m\u001b[39m'\u001b[39;49m, first\u001b[39m=\u001b[39;49m\u001b[39mTrue\u001b[39;49;00m)\n",
      "File \u001b[0;32m~/.local/lib/python3.10/site-packages/spacy/language.py:814\u001b[0m, in \u001b[0;36mLanguage.add_pipe\u001b[0;34m(self, factory_name, name, before, after, first, last, source, config, raw_config, validate)\u001b[0m\n\u001b[1;32m    810\u001b[0m     pipe_component, factory_name \u001b[39m=\u001b[39m \u001b[39mself\u001b[39m\u001b[39m.\u001b[39mcreate_pipe_from_source(\n\u001b[1;32m    811\u001b[0m         factory_name, source, name\u001b[39m=\u001b[39mname\n\u001b[1;32m    812\u001b[0m     )\n\u001b[1;32m    813\u001b[0m \u001b[39melse\u001b[39;00m:\n\u001b[0;32m--> 814\u001b[0m     pipe_component \u001b[39m=\u001b[39m \u001b[39mself\u001b[39;49m\u001b[39m.\u001b[39;49mcreate_pipe(\n\u001b[1;32m    815\u001b[0m         factory_name,\n\u001b[1;32m    816\u001b[0m         name\u001b[39m=\u001b[39;49mname,\n\u001b[1;32m    817\u001b[0m         config\u001b[39m=\u001b[39;49mconfig,\n\u001b[1;32m    818\u001b[0m         raw_config\u001b[39m=\u001b[39;49mraw_config,\n\u001b[1;32m    819\u001b[0m         validate\u001b[39m=\u001b[39;49mvalidate,\n\u001b[1;32m    820\u001b[0m     )\n\u001b[1;32m    821\u001b[0m pipe_index \u001b[39m=\u001b[39m \u001b[39mself\u001b[39m\u001b[39m.\u001b[39m_get_pipe_index(before, after, first, last)\n\u001b[1;32m    822\u001b[0m \u001b[39mself\u001b[39m\u001b[39m.\u001b[39m_pipe_meta[name] \u001b[39m=\u001b[39m \u001b[39mself\u001b[39m\u001b[39m.\u001b[39mget_factory_meta(factory_name)\n",
      "File \u001b[0;32m~/.local/lib/python3.10/site-packages/spacy/language.py:702\u001b[0m, in \u001b[0;36mLanguage.create_pipe\u001b[0;34m(self, factory_name, name, config, raw_config, validate)\u001b[0m\n\u001b[1;32m    699\u001b[0m cfg \u001b[39m=\u001b[39m {factory_name: config}\n\u001b[1;32m    700\u001b[0m \u001b[39m# We're calling the internal _fill here to avoid constructing the\u001b[39;00m\n\u001b[1;32m    701\u001b[0m \u001b[39m# registered functions twice\u001b[39;00m\n\u001b[0;32m--> 702\u001b[0m resolved \u001b[39m=\u001b[39m registry\u001b[39m.\u001b[39;49mresolve(cfg, validate\u001b[39m=\u001b[39;49mvalidate)\n\u001b[1;32m    703\u001b[0m filled \u001b[39m=\u001b[39m registry\u001b[39m.\u001b[39mfill({\u001b[39m\"\u001b[39m\u001b[39mcfg\u001b[39m\u001b[39m\"\u001b[39m: cfg[factory_name]}, validate\u001b[39m=\u001b[39mvalidate)[\u001b[39m\"\u001b[39m\u001b[39mcfg\u001b[39m\u001b[39m\"\u001b[39m]\n\u001b[1;32m    704\u001b[0m filled \u001b[39m=\u001b[39m Config(filled)\n",
      "File \u001b[0;32m~/.local/lib/python3.10/site-packages/confection/__init__.py:733\u001b[0m, in \u001b[0;36mregistry.resolve\u001b[0;34m(cls, config, schema, overrides, validate)\u001b[0m\n\u001b[1;32m    724\u001b[0m \u001b[39m@classmethod\u001b[39m\n\u001b[1;32m    725\u001b[0m \u001b[39mdef\u001b[39;00m \u001b[39mresolve\u001b[39m(\n\u001b[1;32m    726\u001b[0m     \u001b[39mcls\u001b[39m,\n\u001b[0;32m   (...)\u001b[0m\n\u001b[1;32m    731\u001b[0m     validate: \u001b[39mbool\u001b[39m \u001b[39m=\u001b[39m \u001b[39mTrue\u001b[39;00m,\n\u001b[1;32m    732\u001b[0m ) \u001b[39m-\u001b[39m\u001b[39m>\u001b[39m Dict[\u001b[39mstr\u001b[39m, Any]:\n\u001b[0;32m--> 733\u001b[0m     resolved, _ \u001b[39m=\u001b[39m \u001b[39mcls\u001b[39;49m\u001b[39m.\u001b[39;49m_make(\n\u001b[1;32m    734\u001b[0m         config, schema\u001b[39m=\u001b[39;49mschema, overrides\u001b[39m=\u001b[39;49moverrides, validate\u001b[39m=\u001b[39;49mvalidate, resolve\u001b[39m=\u001b[39;49m\u001b[39mTrue\u001b[39;49;00m\n\u001b[1;32m    735\u001b[0m     )\n\u001b[1;32m    736\u001b[0m     \u001b[39mreturn\u001b[39;00m resolved\n",
      "File \u001b[0;32m~/.local/lib/python3.10/site-packages/confection/__init__.py:782\u001b[0m, in \u001b[0;36mregistry._make\u001b[0;34m(cls, config, schema, overrides, resolve, validate)\u001b[0m\n\u001b[1;32m    780\u001b[0m \u001b[39mif\u001b[39;00m \u001b[39mnot\u001b[39;00m is_interpolated:\n\u001b[1;32m    781\u001b[0m     config \u001b[39m=\u001b[39m Config(orig_config)\u001b[39m.\u001b[39minterpolate()\n\u001b[0;32m--> 782\u001b[0m filled, _, resolved \u001b[39m=\u001b[39m \u001b[39mcls\u001b[39;49m\u001b[39m.\u001b[39;49m_fill(\n\u001b[1;32m    783\u001b[0m     config, schema, validate\u001b[39m=\u001b[39;49mvalidate, overrides\u001b[39m=\u001b[39;49moverrides, resolve\u001b[39m=\u001b[39;49mresolve\n\u001b[1;32m    784\u001b[0m )\n\u001b[1;32m    785\u001b[0m filled \u001b[39m=\u001b[39m Config(filled, section_order\u001b[39m=\u001b[39msection_order)\n\u001b[1;32m    786\u001b[0m \u001b[39m# Check that overrides didn't include invalid properties not in config\u001b[39;00m\n",
      "File \u001b[0;32m~/.local/lib/python3.10/site-packages/confection/__init__.py:854\u001b[0m, in \u001b[0;36mregistry._fill\u001b[0;34m(cls, config, schema, validate, resolve, parent, overrides)\u001b[0m\n\u001b[1;32m    851\u001b[0m     getter \u001b[39m=\u001b[39m \u001b[39mcls\u001b[39m\u001b[39m.\u001b[39mget(reg_name, func_name)\n\u001b[1;32m    852\u001b[0m     \u001b[39m# We don't want to try/except this and raise our own error\u001b[39;00m\n\u001b[1;32m    853\u001b[0m     \u001b[39m# here, because we want the traceback if the function fails.\u001b[39;00m\n\u001b[0;32m--> 854\u001b[0m     getter_result \u001b[39m=\u001b[39m getter(\u001b[39m*\u001b[39;49margs, \u001b[39m*\u001b[39;49m\u001b[39m*\u001b[39;49mkwargs)\n\u001b[1;32m    855\u001b[0m \u001b[39melse\u001b[39;00m:\n\u001b[1;32m    856\u001b[0m     \u001b[39m# We're not resolving and calling the function, so replace\u001b[39;00m\n\u001b[1;32m    857\u001b[0m     \u001b[39m# the getter_result with a Promise class\u001b[39;00m\n\u001b[1;32m    858\u001b[0m     getter_result \u001b[39m=\u001b[39m Promise(\n\u001b[1;32m    859\u001b[0m         registry\u001b[39m=\u001b[39mreg_name, name\u001b[39m=\u001b[39mfunc_name, args\u001b[39m=\u001b[39margs, kwargs\u001b[39m=\u001b[39mkwargs\n\u001b[1;32m    860\u001b[0m     )\n",
      "Cell \u001b[0;32mIn[18], line 4\u001b[0m, in \u001b[0;36mlanguage_detector\u001b[0;34m(nlp, name)\u001b[0m\n\u001b[1;32m      2\u001b[0m \u001b[39m@Language\u001b[39m\u001b[39m.\u001b[39mfactory(\u001b[39m'\u001b[39m\u001b[39memoji2\u001b[39m\u001b[39m'\u001b[39m)\n\u001b[1;32m      3\u001b[0m \u001b[39mdef\u001b[39;00m \u001b[39mlanguage_detector\u001b[39m(nlp, name):\n\u001b[0;32m----> 4\u001b[0m     \u001b[39mreturn\u001b[39;00m Emoji()\n",
      "\u001b[0;31mTypeError\u001b[0m: Emoji.__init__() missing 1 required positional argument: 'nlp'"
     ]
    }
   ],
   "source": [
    "nlp = spacy.load(\"en_core_web_lg\")\n",
    "\n",
    "emoji = Emoji(nlp)\n",
    "nlp.add_pipe('emoji2', first=True)"
   ]
  },
  {
   "cell_type": "code",
   "execution_count": null,
   "metadata": {},
   "outputs": [],
   "source": []
  },
  {
   "cell_type": "code",
   "execution_count": 21,
   "metadata": {},
   "outputs": [
    {
     "name": "stderr",
     "output_type": "stream",
     "text": [
      "/tmp/ipykernel_136795/803104660.py:2: TqdmDeprecationWarning: This function will be removed in tqdm==5.0.0\n",
      "Please use `tqdm.notebook.tqdm` instead of `tqdm.tqdm_notebook`\n",
      "  for doc in tqdm_notebook(nlp.pipe(AppleQnR[\"text_x\"], batch_size=512, disable=[\"tagger\"])):\n"
     ]
    },
    {
     "data": {
      "application/vnd.jupyter.widget-view+json": {
       "model_id": "f1b835ef38334b4ea297842a8ad6be13",
       "version_major": 2,
       "version_minor": 0
      },
      "text/plain": [
       "0it [00:00, ?it/s]"
      ]
     },
     "metadata": {},
     "output_type": "display_data"
    },
    {
     "name": "stderr",
     "output_type": "stream",
     "text": [
      "/home/i4624/.local/lib/python3.10/site-packages/spacy/pipeline/lemmatizer.py:211: UserWarning: [W108] The rule-based lemmatizer did not find POS annotation for one or more tokens. Check that your pipeline includes components that assign token.pos, typically 'tagger'+'attribute_ruler' or 'morphologizer'.\n",
      "  warnings.warn(Warnings.W108)\n"
     ]
    }
   ],
   "source": [
    "emojis = []\n",
    "for doc in tqdm_notebook(nlp.pipe(AppleQnR[\"text_x\"], batch_size=512, disable=[\"tagger\"])):\n",
    "    if doc._.has_emoji:\n",
    "        for e in doc._.emoji:\n",
    "            emojis.extend(e[0])"
   ]
  },
  {
   "cell_type": "code",
   "execution_count": 22,
   "metadata": {},
   "outputs": [
    {
     "data": {
      "text/plain": [
       "[]"
      ]
     },
     "execution_count": 22,
     "metadata": {},
     "output_type": "execute_result"
    }
   ],
   "source": [
    "eCount = Counter(emojis)\n",
    "eCount.most_common(20)"
   ]
  },
  {
   "cell_type": "code",
   "execution_count": 24,
   "metadata": {},
   "outputs": [
    {
     "data": {
      "text/html": [
       "<div>\n",
       "<style scoped>\n",
       "    .dataframe tbody tr th:only-of-type {\n",
       "        vertical-align: middle;\n",
       "    }\n",
       "\n",
       "    .dataframe tbody tr th {\n",
       "        vertical-align: top;\n",
       "    }\n",
       "\n",
       "    .dataframe thead th {\n",
       "        text-align: right;\n",
       "    }\n",
       "</style>\n",
       "<table border=\"1\" class=\"dataframe\">\n",
       "  <thead>\n",
       "    <tr style=\"text-align: right;\">\n",
       "      <th></th>\n",
       "      <th>tweet_id_x</th>\n",
       "      <th>author_id_x</th>\n",
       "      <th>inbound_x</th>\n",
       "      <th>created_at_x</th>\n",
       "      <th>text_x</th>\n",
       "      <th>response_tweet_id_x</th>\n",
       "      <th>in_response_to_tweet_id_x</th>\n",
       "      <th>tweet_id_y</th>\n",
       "      <th>author_id_y</th>\n",
       "      <th>inbound_y</th>\n",
       "      <th>created_at_y</th>\n",
       "      <th>text_y</th>\n",
       "      <th>response_tweet_id_y</th>\n",
       "      <th>in_response_to_tweet_id_y</th>\n",
       "    </tr>\n",
       "  </thead>\n",
       "  <tbody>\n",
       "    <tr>\n",
       "      <th>119</th>\n",
       "      <td>714</td>\n",
       "      <td>115856</td>\n",
       "      <td>True</td>\n",
       "      <td>Tue Oct 31 22:19:32 +0000 2017</td>\n",
       "      <td>Hey @AppleSupport and anyone else who upgraded...</td>\n",
       "      <td>712,715</td>\n",
       "      <td>NaN</td>\n",
       "      <td>712</td>\n",
       "      <td>AppleSupport</td>\n",
       "      <td>False</td>\n",
       "      <td>Tue Oct 31 22:26:29 +0000 2017</td>\n",
       "      <td>Hey, let's work together to figure out what's...</td>\n",
       "      <td>713</td>\n",
       "      <td>714.0</td>\n",
       "    </tr>\n",
       "    <tr>\n",
       "      <th>120</th>\n",
       "      <td>719</td>\n",
       "      <td>115857</td>\n",
       "      <td>True</td>\n",
       "      <td>Tue Oct 31 22:01:50 +0000 2017</td>\n",
       "      <td>Tf is wrong with my keyboard</td>\n",
       "      <td>718</td>\n",
       "      <td>NaN</td>\n",
       "      <td>718</td>\n",
       "      <td>AppleSupport</td>\n",
       "      <td>False</td>\n",
       "      <td>Tue Oct 31 22:05:00 +0000 2017</td>\n",
       "      <td>Fill us in on what is happening, then we can ...</td>\n",
       "      <td>717</td>\n",
       "      <td>719.0</td>\n",
       "    </tr>\n",
       "    <tr>\n",
       "      <th>121</th>\n",
       "      <td>723</td>\n",
       "      <td>115859</td>\n",
       "      <td>True</td>\n",
       "      <td>Tue Oct 31 22:11:16 +0000 2017</td>\n",
       "      <td>@AppleSupport hello are all the lines closed ...</td>\n",
       "      <td>722</td>\n",
       "      <td>NaN</td>\n",
       "      <td>722</td>\n",
       "      <td>AppleSupport</td>\n",
       "      <td>False</td>\n",
       "      <td>Tue Oct 31 22:17:30 +0000 2017</td>\n",
       "      <td>What's going on? We're hapy to help if we can...</td>\n",
       "      <td>721</td>\n",
       "      <td>723.0</td>\n",
       "    </tr>\n",
       "    <tr>\n",
       "      <th>122</th>\n",
       "      <td>730</td>\n",
       "      <td>115861</td>\n",
       "      <td>True</td>\n",
       "      <td>Tue Oct 31 20:46:35 +0000 2017</td>\n",
       "      <td>Hello, internet. Can someone explain why this ...</td>\n",
       "      <td>729,731</td>\n",
       "      <td>NaN</td>\n",
       "      <td>729</td>\n",
       "      <td>AppleSupport</td>\n",
       "      <td>False</td>\n",
       "      <td>Tue Oct 31 20:55:34 +0000 2017</td>\n",
       "      <td>You're in the right place; we'll do all we ca...</td>\n",
       "      <td>728</td>\n",
       "      <td>730.0</td>\n",
       "    </tr>\n",
       "  </tbody>\n",
       "</table>\n",
       "</div>"
      ],
      "text/plain": [
       "     tweet_id_x author_id_x  inbound_x                    created_at_x  \\\n",
       "119         714      115856       True  Tue Oct 31 22:19:32 +0000 2017   \n",
       "120         719      115857       True  Tue Oct 31 22:01:50 +0000 2017   \n",
       "121         723      115859       True  Tue Oct 31 22:11:16 +0000 2017   \n",
       "122         730      115861       True  Tue Oct 31 20:46:35 +0000 2017   \n",
       "\n",
       "                                                text_x response_tweet_id_x  \\\n",
       "119  Hey @AppleSupport and anyone else who upgraded...             712,715   \n",
       "120                       Tf is wrong with my keyboard                 718   \n",
       "121   @AppleSupport hello are all the lines closed ...                 722   \n",
       "122  Hello, internet. Can someone explain why this ...             729,731   \n",
       "\n",
       "     in_response_to_tweet_id_x  tweet_id_y   author_id_y  inbound_y  \\\n",
       "119                        NaN         712  AppleSupport      False   \n",
       "120                        NaN         718  AppleSupport      False   \n",
       "121                        NaN         722  AppleSupport      False   \n",
       "122                        NaN         729  AppleSupport      False   \n",
       "\n",
       "                       created_at_y  \\\n",
       "119  Tue Oct 31 22:26:29 +0000 2017   \n",
       "120  Tue Oct 31 22:05:00 +0000 2017   \n",
       "121  Tue Oct 31 22:17:30 +0000 2017   \n",
       "122  Tue Oct 31 20:55:34 +0000 2017   \n",
       "\n",
       "                                                text_y response_tweet_id_y  \\\n",
       "119   Hey, let's work together to figure out what's...                 713   \n",
       "120   Fill us in on what is happening, then we can ...                 717   \n",
       "121   What's going on? We're hapy to help if we can...                 721   \n",
       "122   You're in the right place; we'll do all we ca...                 728   \n",
       "\n",
       "     in_response_to_tweet_id_y  \n",
       "119                      714.0  \n",
       "120                      719.0  \n",
       "121                      723.0  \n",
       "122                      730.0  "
      ]
     },
     "execution_count": 24,
     "metadata": {},
     "output_type": "execute_result"
    }
   ],
   "source": [
    "AppleSupport =QnR[(QnR[\"author_id_y\"]==\"AppleSupport\")]\n",
    "AppleSupport.head(4)"
   ]
  },
  {
   "cell_type": "code",
   "execution_count": 41,
   "metadata": {},
   "outputs": [
    {
     "ename": "ValueError",
     "evalue": "[E046] Can't retrieve unregistered extension attribute 'cld_language_detector'. Did you forget to call the `set_extension` method?",
     "output_type": "error",
     "traceback": [
      "\u001b[0;31m---------------------------------------------------------------------------\u001b[0m",
      "\u001b[0;31mValueError\u001b[0m                                Traceback (most recent call last)",
      "Cell \u001b[0;32mIn[41], line 1\u001b[0m\n\u001b[0;32m----> 1\u001b[0m Doc\u001b[39m.\u001b[39;49mremove_extension(\u001b[39m'\u001b[39;49m\u001b[39mcld_language_detector\u001b[39;49m\u001b[39m'\u001b[39;49m)\n",
      "File \u001b[0;32m~/.local/lib/python3.10/site-packages/spacy/tokens/doc.pyx:200\u001b[0m, in \u001b[0;36mspacy.tokens.doc.Doc.remove_extension\u001b[0;34m()\u001b[0m\n",
      "\u001b[0;31mValueError\u001b[0m: [E046] Can't retrieve unregistered extension attribute 'cld_language_detector'. Did you forget to call the `set_extension` method?"
     ]
    }
   ],
   "source": [
    "import scattertext as st\n",
    "from spacy.tokens import Doc\n",
    "Doc.remove_extension('cld_language_detector')"
   ]
  },
  {
   "cell_type": "code",
   "execution_count": 48,
   "metadata": {},
   "outputs": [],
   "source": [
    "@Language.factory('language_detector2')\n",
    "def language_detector2(nlp, name):\n",
    "    return spacy_cld.LanguageDetector()"
   ]
  },
  {
   "cell_type": "code",
   "execution_count": 50,
   "metadata": {},
   "outputs": [
    {
     "data": {
      "text/plain": [
       "<bound method Language.factory of <class 'spacy.lang.en.English'>>"
      ]
     },
     "execution_count": 50,
     "metadata": {},
     "output_type": "execute_result"
    }
   ],
   "source": [
    "nlp.factory"
   ]
  },
  {
   "cell_type": "code",
   "execution_count": 58,
   "metadata": {},
   "outputs": [
    {
     "ename": "ValueError",
     "evalue": "[E090] Extension 'languages' already exists on Doc. To overwrite the existing extension, set `force=True` on `Doc.set_extension`.",
     "output_type": "error",
     "traceback": [
      "\u001b[0;31m---------------------------------------------------------------------------\u001b[0m",
      "\u001b[0;31mValueError\u001b[0m                                Traceback (most recent call last)",
      "Cell \u001b[0;32mIn[58], line 1\u001b[0m\n\u001b[0;32m----> 1\u001b[0m nlp\u001b[39m.\u001b[39;49madd_pipe(\u001b[39m'\u001b[39;49m\u001b[39mlanguage_detector2\u001b[39;49m\u001b[39m'\u001b[39;49m)\n",
      "File \u001b[0;32m~/.local/lib/python3.10/site-packages/spacy/language.py:814\u001b[0m, in \u001b[0;36mLanguage.add_pipe\u001b[0;34m(self, factory_name, name, before, after, first, last, source, config, raw_config, validate)\u001b[0m\n\u001b[1;32m    810\u001b[0m     pipe_component, factory_name \u001b[39m=\u001b[39m \u001b[39mself\u001b[39m\u001b[39m.\u001b[39mcreate_pipe_from_source(\n\u001b[1;32m    811\u001b[0m         factory_name, source, name\u001b[39m=\u001b[39mname\n\u001b[1;32m    812\u001b[0m     )\n\u001b[1;32m    813\u001b[0m \u001b[39melse\u001b[39;00m:\n\u001b[0;32m--> 814\u001b[0m     pipe_component \u001b[39m=\u001b[39m \u001b[39mself\u001b[39;49m\u001b[39m.\u001b[39;49mcreate_pipe(\n\u001b[1;32m    815\u001b[0m         factory_name,\n\u001b[1;32m    816\u001b[0m         name\u001b[39m=\u001b[39;49mname,\n\u001b[1;32m    817\u001b[0m         config\u001b[39m=\u001b[39;49mconfig,\n\u001b[1;32m    818\u001b[0m         raw_config\u001b[39m=\u001b[39;49mraw_config,\n\u001b[1;32m    819\u001b[0m         validate\u001b[39m=\u001b[39;49mvalidate,\n\u001b[1;32m    820\u001b[0m     )\n\u001b[1;32m    821\u001b[0m pipe_index \u001b[39m=\u001b[39m \u001b[39mself\u001b[39m\u001b[39m.\u001b[39m_get_pipe_index(before, after, first, last)\n\u001b[1;32m    822\u001b[0m \u001b[39mself\u001b[39m\u001b[39m.\u001b[39m_pipe_meta[name] \u001b[39m=\u001b[39m \u001b[39mself\u001b[39m\u001b[39m.\u001b[39mget_factory_meta(factory_name)\n",
      "File \u001b[0;32m~/.local/lib/python3.10/site-packages/spacy/language.py:702\u001b[0m, in \u001b[0;36mLanguage.create_pipe\u001b[0;34m(self, factory_name, name, config, raw_config, validate)\u001b[0m\n\u001b[1;32m    699\u001b[0m cfg \u001b[39m=\u001b[39m {factory_name: config}\n\u001b[1;32m    700\u001b[0m \u001b[39m# We're calling the internal _fill here to avoid constructing the\u001b[39;00m\n\u001b[1;32m    701\u001b[0m \u001b[39m# registered functions twice\u001b[39;00m\n\u001b[0;32m--> 702\u001b[0m resolved \u001b[39m=\u001b[39m registry\u001b[39m.\u001b[39;49mresolve(cfg, validate\u001b[39m=\u001b[39;49mvalidate)\n\u001b[1;32m    703\u001b[0m filled \u001b[39m=\u001b[39m registry\u001b[39m.\u001b[39mfill({\u001b[39m\"\u001b[39m\u001b[39mcfg\u001b[39m\u001b[39m\"\u001b[39m: cfg[factory_name]}, validate\u001b[39m=\u001b[39mvalidate)[\u001b[39m\"\u001b[39m\u001b[39mcfg\u001b[39m\u001b[39m\"\u001b[39m]\n\u001b[1;32m    704\u001b[0m filled \u001b[39m=\u001b[39m Config(filled)\n",
      "File \u001b[0;32m~/.local/lib/python3.10/site-packages/confection/__init__.py:733\u001b[0m, in \u001b[0;36mregistry.resolve\u001b[0;34m(cls, config, schema, overrides, validate)\u001b[0m\n\u001b[1;32m    724\u001b[0m \u001b[39m@classmethod\u001b[39m\n\u001b[1;32m    725\u001b[0m \u001b[39mdef\u001b[39;00m \u001b[39mresolve\u001b[39m(\n\u001b[1;32m    726\u001b[0m     \u001b[39mcls\u001b[39m,\n\u001b[0;32m   (...)\u001b[0m\n\u001b[1;32m    731\u001b[0m     validate: \u001b[39mbool\u001b[39m \u001b[39m=\u001b[39m \u001b[39mTrue\u001b[39;00m,\n\u001b[1;32m    732\u001b[0m ) \u001b[39m-\u001b[39m\u001b[39m>\u001b[39m Dict[\u001b[39mstr\u001b[39m, Any]:\n\u001b[0;32m--> 733\u001b[0m     resolved, _ \u001b[39m=\u001b[39m \u001b[39mcls\u001b[39;49m\u001b[39m.\u001b[39;49m_make(\n\u001b[1;32m    734\u001b[0m         config, schema\u001b[39m=\u001b[39;49mschema, overrides\u001b[39m=\u001b[39;49moverrides, validate\u001b[39m=\u001b[39;49mvalidate, resolve\u001b[39m=\u001b[39;49m\u001b[39mTrue\u001b[39;49;00m\n\u001b[1;32m    735\u001b[0m     )\n\u001b[1;32m    736\u001b[0m     \u001b[39mreturn\u001b[39;00m resolved\n",
      "File \u001b[0;32m~/.local/lib/python3.10/site-packages/confection/__init__.py:782\u001b[0m, in \u001b[0;36mregistry._make\u001b[0;34m(cls, config, schema, overrides, resolve, validate)\u001b[0m\n\u001b[1;32m    780\u001b[0m \u001b[39mif\u001b[39;00m \u001b[39mnot\u001b[39;00m is_interpolated:\n\u001b[1;32m    781\u001b[0m     config \u001b[39m=\u001b[39m Config(orig_config)\u001b[39m.\u001b[39minterpolate()\n\u001b[0;32m--> 782\u001b[0m filled, _, resolved \u001b[39m=\u001b[39m \u001b[39mcls\u001b[39;49m\u001b[39m.\u001b[39;49m_fill(\n\u001b[1;32m    783\u001b[0m     config, schema, validate\u001b[39m=\u001b[39;49mvalidate, overrides\u001b[39m=\u001b[39;49moverrides, resolve\u001b[39m=\u001b[39;49mresolve\n\u001b[1;32m    784\u001b[0m )\n\u001b[1;32m    785\u001b[0m filled \u001b[39m=\u001b[39m Config(filled, section_order\u001b[39m=\u001b[39msection_order)\n\u001b[1;32m    786\u001b[0m \u001b[39m# Check that overrides didn't include invalid properties not in config\u001b[39;00m\n",
      "File \u001b[0;32m~/.local/lib/python3.10/site-packages/confection/__init__.py:854\u001b[0m, in \u001b[0;36mregistry._fill\u001b[0;34m(cls, config, schema, validate, resolve, parent, overrides)\u001b[0m\n\u001b[1;32m    851\u001b[0m     getter \u001b[39m=\u001b[39m \u001b[39mcls\u001b[39m\u001b[39m.\u001b[39mget(reg_name, func_name)\n\u001b[1;32m    852\u001b[0m     \u001b[39m# We don't want to try/except this and raise our own error\u001b[39;00m\n\u001b[1;32m    853\u001b[0m     \u001b[39m# here, because we want the traceback if the function fails.\u001b[39;00m\n\u001b[0;32m--> 854\u001b[0m     getter_result \u001b[39m=\u001b[39m getter(\u001b[39m*\u001b[39;49margs, \u001b[39m*\u001b[39;49m\u001b[39m*\u001b[39;49mkwargs)\n\u001b[1;32m    855\u001b[0m \u001b[39melse\u001b[39;00m:\n\u001b[1;32m    856\u001b[0m     \u001b[39m# We're not resolving and calling the function, so replace\u001b[39;00m\n\u001b[1;32m    857\u001b[0m     \u001b[39m# the getter_result with a Promise class\u001b[39;00m\n\u001b[1;32m    858\u001b[0m     getter_result \u001b[39m=\u001b[39m Promise(\n\u001b[1;32m    859\u001b[0m         registry\u001b[39m=\u001b[39mreg_name, name\u001b[39m=\u001b[39mfunc_name, args\u001b[39m=\u001b[39margs, kwargs\u001b[39m=\u001b[39mkwargs\n\u001b[1;32m    860\u001b[0m     )\n",
      "Cell \u001b[0;32mIn[48], line 3\u001b[0m, in \u001b[0;36mlanguage_detector2\u001b[0;34m(nlp, name)\u001b[0m\n\u001b[1;32m      1\u001b[0m \u001b[39m@Language\u001b[39m\u001b[39m.\u001b[39mfactory(\u001b[39m'\u001b[39m\u001b[39mlanguage_detector2\u001b[39m\u001b[39m'\u001b[39m)\n\u001b[1;32m      2\u001b[0m \u001b[39mdef\u001b[39;00m \u001b[39mlanguage_detector2\u001b[39m(nlp, name):\n\u001b[0;32m----> 3\u001b[0m     \u001b[39mreturn\u001b[39;00m spacy_cld\u001b[39m.\u001b[39;49mLanguageDetector()\n",
      "File \u001b[0;32m~/.local/lib/python3.10/site-packages/spacy_cld/spacy_cld.py:30\u001b[0m, in \u001b[0;36mLanguageDetector.__init__\u001b[0;34m(self, attrs)\u001b[0m\n\u001b[1;32m     28\u001b[0m \u001b[39mdef\u001b[39;00m \u001b[39m__init__\u001b[39m(\u001b[39mself\u001b[39m, attrs\u001b[39m=\u001b[39m(\u001b[39m'\u001b[39m\u001b[39mlanguages\u001b[39m\u001b[39m'\u001b[39m, \u001b[39m'\u001b[39m\u001b[39mlanguage_scores\u001b[39m\u001b[39m'\u001b[39m)):\n\u001b[1;32m     29\u001b[0m     \u001b[39mself\u001b[39m\u001b[39m.\u001b[39m_languages, \u001b[39mself\u001b[39m\u001b[39m.\u001b[39m_scores \u001b[39m=\u001b[39m attrs\n\u001b[0;32m---> 30\u001b[0m     Doc\u001b[39m.\u001b[39;49mset_extension(\u001b[39mself\u001b[39;49m\u001b[39m.\u001b[39;49m_languages, getter\u001b[39m=\u001b[39;49mget_languages)\n\u001b[1;32m     31\u001b[0m     Doc\u001b[39m.\u001b[39mset_extension(\u001b[39mself\u001b[39m\u001b[39m.\u001b[39m_scores, getter\u001b[39m=\u001b[39mget_scores)\n\u001b[1;32m     32\u001b[0m     Span\u001b[39m.\u001b[39mset_extension(\u001b[39mself\u001b[39m\u001b[39m.\u001b[39m_languages, getter\u001b[39m=\u001b[39mget_languages)\n",
      "File \u001b[0;32m~/.local/lib/python3.10/site-packages/spacy/tokens/doc.pyx:164\u001b[0m, in \u001b[0;36mspacy.tokens.doc.Doc.set_extension\u001b[0;34m()\u001b[0m\n",
      "\u001b[0;31mValueError\u001b[0m: [E090] Extension 'languages' already exists on Doc. To overwrite the existing extension, set `force=True` on `Doc.set_extension`."
     ]
    }
   ],
   "source": [
    "nlp.add_pipe('language_detector2')"
   ]
  },
  {
   "cell_type": "code",
   "execution_count": 51,
   "metadata": {},
   "outputs": [
    {
     "data": {
      "application/vnd.jupyter.widget-view+json": {
       "model_id": "2b49139c1582450fad9289f244730622",
       "version_major": 2,
       "version_minor": 0
      },
      "text/plain": [
       "  0%|          | 0/74632 [00:00<?, ?it/s]"
      ]
     },
     "metadata": {},
     "output_type": "display_data"
    },
    {
     "name": "stderr",
     "output_type": "stream",
     "text": [
      "/tmp/ipykernel_136795/1979507975.py:1: SettingWithCopyWarning: \n",
      "A value is trying to be set on a copy of a slice from a DataFrame.\n",
      "Try using .loc[row_indexer,col_indexer] = value instead\n",
      "\n",
      "See the caveats in the documentation: https://pandas.pydata.org/pandas-docs/stable/user_guide/indexing.html#returning-a-view-versus-a-copy\n",
      "  AppleSupport['parsed'] = AppleSupport.text_y.progress_apply(nlp)\n"
     ]
    }
   ],
   "source": [
    "\n",
    "\n",
    "AppleSupport['parsed'] = AppleSupport.text_y.progress_apply(nlp)"
   ]
  },
  {
   "cell_type": "code",
   "execution_count": 59,
   "metadata": {},
   "outputs": [
    {
     "name": "stdout",
     "output_type": "stream",
     "text": [
      "['tok2vec', 'tagger', 'parser', 'attribute_ruler', 'lemmatizer', 'ner']\n"
     ]
    }
   ],
   "source": [
    "print(nlp.pipe_names)"
   ]
  },
  {
   "cell_type": "code",
   "execution_count": 64,
   "metadata": {},
   "outputs": [
    {
     "data": {
      "text/plain": [
       "119    ( , Hey, ,, let, 's, work, together, to, figur...\n",
       "120    ( , Fill, us, in, on, what, is, happening, ,, ...\n",
       "121    ( , What, 's, going, on, ?, We, 're, hapy, to,...\n",
       "122    ( , You, 're, in, the, right, place, ;, we, 'l...\n",
       "123    ( , Go, ahead, and, send, us, a, DM, please, ....\n",
       "Name: parsed, dtype: object"
      ]
     },
     "execution_count": 64,
     "metadata": {},
     "output_type": "execute_result"
    }
   ],
   "source": [
    "AppleSupport['parsed'].head()"
   ]
  },
  {
   "cell_type": "code",
   "execution_count": 53,
   "metadata": {},
   "outputs": [],
   "source": [
    "corpus = st.CorpusFromParsedDocuments(AppleSupport,\n",
    "                             category_col='author_id_y',\n",
    "                             parsed_col='parsed').build()"
   ]
  },
  {
   "cell_type": "code",
   "execution_count": 56,
   "metadata": {},
   "outputs": [],
   "source": [
    "html = st.produce_scattertext_explorer(corpus,\n",
    "          category='AppleSupport',\n",
    "          category_name='AppleSupport',\n",
    "          width_in_pixels=600,\n",
    "          minimum_term_frequency=10,\n",
    "          term_significance = st.LogOddsRatioUninformativeDirichletPrior(),\n",
    "          )"
   ]
  },
  {
   "cell_type": "code",
   "execution_count": 57,
   "metadata": {},
   "outputs": [
    {
     "data": {
      "text/html": [
       "\n",
       "        <iframe\n",
       "            width=\"800\"\n",
       "            height=\"700\"\n",
       "            src=\"applesupport2.html\"\n",
       "            frameborder=\"0\"\n",
       "            allowfullscreen\n",
       "            \n",
       "        ></iframe>\n",
       "        "
      ],
      "text/plain": [
       "<IPython.lib.display.IFrame at 0x7f64439658d0>"
      ]
     },
     "execution_count": 57,
     "metadata": {},
     "output_type": "execute_result"
    }
   ],
   "source": [
    "# uncomment this cell to load the interactive scattertext visualisation\n",
    "filename = \"applesupport2.html\"\n",
    "open(filename, 'wb').write(html.encode('utf-8'))\n",
    "IFrame(src=filename, width = 800, height=700)"
   ]
  },
  {
   "cell_type": "code",
   "execution_count": 60,
   "metadata": {},
   "outputs": [],
   "source": [
    "feat_builder = st.FeatsFromOnlyEmpath()\n",
    "empath_corpus = st.CorpusFromParsedDocuments(AppleSupport,\n",
    "                                              category_col='author_id_y',\n",
    "                                              feats_from_spacy_doc=feat_builder,\n",
    "                                              parsed_col='parsed').build()"
   ]
  },
  {
   "cell_type": "code",
   "execution_count": 61,
   "metadata": {},
   "outputs": [],
   "source": [
    "html = st.produce_scattertext_explorer(empath_corpus,\n",
    "                                        category='AppleSupport',\n",
    "                                        category_name='AppleSupport',\n",
    "                                        width_in_pixels=700,\n",
    "                                        metadata=AppleSupport['author_id_y'],\n",
    "                                        use_non_text_features=True,\n",
    "                                        use_full_doc=True,\n",
    "                                        topic_model_term_lists=feat_builder.get_top_model_term_lists())\n"
   ]
  },
  {
   "cell_type": "code",
   "execution_count": 63,
   "metadata": {},
   "outputs": [
    {
     "data": {
      "text/html": [
       "\n",
       "        <iframe\n",
       "            width=\"900\"\n",
       "            height=\"700\"\n",
       "            src=\"empath-Apple.html\"\n",
       "            frameborder=\"0\"\n",
       "            allowfullscreen\n",
       "            \n",
       "        ></iframe>\n",
       "        "
      ],
      "text/plain": [
       "<IPython.lib.display.IFrame at 0x7f644533e1d0>"
      ]
     },
     "execution_count": 63,
     "metadata": {},
     "output_type": "execute_result"
    }
   ],
   "source": [
    "# uncomment this cell to load the interactive scattertext visualisation\n",
    "filename = \"empath-Apple.html\"\n",
    "open(filename, 'wb').write(html.encode('utf-8'))\n",
    "IFrame(src=filename, width = 900, height=700)"
   ]
  }
 ],
 "metadata": {
  "kernelspec": {
   "display_name": "Python 3",
   "language": "python",
   "name": "python3"
  },
  "language_info": {
   "codemirror_mode": {
    "name": "ipython",
    "version": 3
   },
   "file_extension": ".py",
   "mimetype": "text/x-python",
   "name": "python",
   "nbconvert_exporter": "python",
   "pygments_lexer": "ipython3",
   "version": "3.10.6"
  },
  "orig_nbformat": 4
 },
 "nbformat": 4,
 "nbformat_minor": 2
}
