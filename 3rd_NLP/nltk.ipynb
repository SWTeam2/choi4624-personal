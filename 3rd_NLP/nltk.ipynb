{
 "cells": [
  {
   "cell_type": "code",
   "execution_count": 2,
   "metadata": {},
   "outputs": [
    {
     "name": "stdout",
     "output_type": "stream",
     "text": [
      "Defaulting to user installation because normal site-packages is not writeable\n",
      "Collecting nltk\n",
      "  Downloading nltk-3.8.1-py3-none-any.whl (1.5 MB)\n",
      "\u001b[2K     \u001b[90m━━━━━━━━━━━━━━━━━━━━━━━━━━━━━━━━━━━━━━━━\u001b[0m \u001b[32m1.5/1.5 MB\u001b[0m \u001b[31m15.5 MB/s\u001b[0m eta \u001b[36m0:00:00\u001b[0ma \u001b[36m0:00:01\u001b[0m\n",
      "\u001b[?25hRequirement already satisfied: click in /usr/lib/python3/dist-packages (from nltk) (8.0.3)\n",
      "Requirement already satisfied: joblib in /home/i4624/.local/lib/python3.10/site-packages (from nltk) (1.3.1)\n",
      "Requirement already satisfied: tqdm in /home/i4624/.local/lib/python3.10/site-packages (from nltk) (4.65.0)\n",
      "Collecting regex>=2021.8.3\n",
      "  Downloading regex-2023.6.3-cp310-cp310-manylinux_2_17_x86_64.manylinux2014_x86_64.whl (770 kB)\n",
      "\u001b[2K     \u001b[90m━━━━━━━━━━━━━━━━━━━━━━━━━━━━━━━━━━━━━━\u001b[0m \u001b[32m770.4/770.4 KB\u001b[0m \u001b[31m37.5 MB/s\u001b[0m eta \u001b[36m0:00:00\u001b[0m\n",
      "\u001b[?25hInstalling collected packages: regex, nltk\n",
      "Successfully installed nltk-3.8.1 regex-2023.6.3\n",
      "Note: you may need to restart the kernel to use updated packages.\n"
     ]
    }
   ],
   "source": [
    "%pip install nltk"
   ]
  },
  {
   "cell_type": "code",
   "execution_count": 3,
   "metadata": {},
   "outputs": [
    {
     "name": "stdout",
     "output_type": "stream",
     "text": [
      "Defaulting to user installation because normal site-packages is not writeable\n",
      "\u001b[31mERROR: Could not find a version that satisfies the requirement re (from versions: none)\u001b[0m\u001b[31m\n",
      "\u001b[0m\u001b[31mERROR: No matching distribution found for re\u001b[0m\u001b[31m\n",
      "\u001b[0mNote: you may need to restart the kernel to use updated packages.\n"
     ]
    }
   ],
   "source": [
    "%pip install re "
   ]
  },
  {
   "cell_type": "code",
   "execution_count": 1,
   "metadata": {},
   "outputs": [],
   "source": [
    "import nltk\n",
    "#for maths\n",
    "import numpy as np\n",
    "#for string manipulation\n",
    "import string\n",
    "#for importing and managing our dataset\n",
    "import pandas as pd\n",
    "#for pre-processing our dataset\n",
    "import re\n",
    "\n",
    "import warnings\n",
    "warnings.filterwarnings('ignore')"
   ]
  },
  {
   "cell_type": "code",
   "execution_count": 2,
   "metadata": {},
   "outputs": [],
   "source": [
    "df = pd.read_csv('twcs.csv')"
   ]
  },
  {
   "cell_type": "code",
   "execution_count": 10,
   "metadata": {},
   "outputs": [],
   "source": [
    "#Specify which company we want to work with\n",
    "company = \"Tesco\"\n",
    "\n",
    "#Filter for answers only made by that company\n",
    "answers = df.loc[df['author_id'] == company]"
   ]
  },
  {
   "cell_type": "code",
   "execution_count": 11,
   "metadata": {},
   "outputs": [],
   "source": [
    "#Convert all our text to lower case\n",
    "answers['text'] = answers.apply(lambda row: row['text'].lower(), axis=1)\n",
    "#Strip off any trailing full stops\n",
    "answers['text'] = answers.apply(lambda row: row['text'].rstrip('.'), axis=1)\n",
    "#Remove any mentions to users e.g. \"@johnsmith you can do this by....\"\n",
    "answers['text'] = answers.apply(lambda row: re.sub(\"\\B@\\w+\", \"\", row['text']), axis=1)"
   ]
  },
  {
   "cell_type": "code",
   "execution_count": 12,
   "metadata": {},
   "outputs": [],
   "source": [
    "#variable for concatinating all answers sent by the company\n",
    "raw = \"\"\n",
    "\n",
    "#concatinate answers into raw variable\n",
    "for index, row in answers.iterrows():\n",
    "    raw += \". \" + row['text']"
   ]
  },
  {
   "cell_type": "code",
   "execution_count": 13,
   "metadata": {},
   "outputs": [
    {
     "name": "stderr",
     "output_type": "stream",
     "text": [
      "[nltk_data] Downloading package punkt to /home/i4624/nltk_data...\n",
      "[nltk_data]   Package punkt is already up-to-date!\n",
      "[nltk_data] Downloading package wordnet to /home/i4624/nltk_data...\n",
      "[nltk_data]   Package wordnet is already up-to-date!\n"
     ]
    }
   ],
   "source": [
    "#download nltk assets\n",
    "nltk.download('punkt')\n",
    "nltk.download('wordnet')\n",
    "\n",
    "#convert our raw sentences into sentence tokens\n",
    "sentence_tokens = nltk.sent_tokenize(raw)\n",
    "#convert our raw sentences into word tokens\n",
    "word_tokens = nltk.word_tokenize(raw);"
   ]
  },
  {
   "cell_type": "code",
   "execution_count": 14,
   "metadata": {},
   "outputs": [],
   "source": [
    "lemmer = nltk.stem.WordNetLemmatizer()\n",
    "\n",
    "def LemTokens(tokens):\n",
    "    return [lemmer.lemmatize(token) for token in tokens]\n",
    "remove_punct_dict = dict((ord(punct), None) for punct in string.punctuation)\n",
    "def LemNormalize(text):\n",
    "    return LemTokens(nltk.word_tokenize(text.lower().translate(remove_punct_dict)))"
   ]
  },
  {
   "cell_type": "code",
   "execution_count": 15,
   "metadata": {},
   "outputs": [],
   "source": [
    "#import necessary libraries\n",
    "from sklearn.feature_extraction.text import TfidfVectorizer\n",
    "from sklearn.metrics.pairwise import cosine_similarity\n",
    "\n",
    "#define our function for processing a response\n",
    "def response(user_response):\n",
    "    #define our response variable\n",
    "    robo_response=''\n",
    "    #add our users input as a response\n",
    "    sentence_tokens.append(user_response)\n",
    "    #create out vectorizer\n",
    "    vectorizer = TfidfVectorizer(tokenizer=LemNormalize, stop_words='english')\n",
    "    #process our tokens\n",
    "    diff = vectorizer.fit_transform(sentence_tokens)\n",
    "    #find the similarity\n",
    "    vals = cosine_similarity(diff[-1], diff)\n",
    "    #select our sentence\n",
    "    idx = vals.argsort()[0][-2]\n",
    "    #calculate accuracy\n",
    "    flat = vals.flatten()\n",
    "    flat.sort()\n",
    "    req_diff = flat[-2]\n",
    "    if(req_diff==0):\n",
    "        #if no appropriate response can be made\n",
    "        robo_response=robo_response+\"Sorry! I don't think I can help you with that.\"\n",
    "        return robo_response\n",
    "    else:\n",
    "        #if an appropriate response is found\n",
    "        robo_response = sentence_tokens[idx]        \n",
    "        return robo_response"
   ]
  },
  {
   "cell_type": "code",
   "execution_count": 16,
   "metadata": {},
   "outputs": [
    {
     "name": "stdout",
     "output_type": "stream",
     "text": [
      "Tesco Support: Welcome to Tesco Support. I will answer your queries about Tesco. If you wish to end the chat, type bye!\n",
      "Tesco Support: so we can support you further.\n",
      "Tesco Support: after i have these i will get that refund out to you.\n",
      "Tesco Support: happy eating and enjoy.\n",
      "Tesco Support: Sorry! I don't think I can help you with that.\n",
      "Tesco Support: christmas markets?\n",
      "Tesco Support: christmas markets?\n",
      "Tesco Support: Sorry! I don't think I can help you with that.\n",
      "Tesco Support: Sorry! I don't think I can help you with that.\n",
      "Tesco Support: You are welcome.\n"
     ]
    }
   ],
   "source": [
    "#define our flag to exit the loop\n",
    "flag=True\n",
    "#print welcome message for our chosen company\n",
    "print(\"{companyname} Support: Welcome to {companyname} Support. I will answer your queries about {companyname}. If you wish to end the chat, type bye!\".format(companyname = company))\n",
    "while(flag==True):\n",
    "    #get an input\n",
    "    user_response = input()\n",
    "    #convert to lower\n",
    "    user_response=user_response.lower()\n",
    "    #if they type something other than 'bye'\n",
    "    if(user_response!='bye'):\n",
    "        #if they show appriciation\n",
    "        if(user_response=='thanks' or user_response=='thank you' ):\n",
    "            #exit the loop\n",
    "            flag=False\n",
    "            #thank you message\n",
    "            print(\"{companyname} Support: You are welcome.\".format(companyname = company))\n",
    "        else:\n",
    "            #show bot is typing\n",
    "            print(\"{companyname} Support: \".format(companyname = company), end=\"\")\n",
    "            #print our AI response\n",
    "            print(response(user_response))\n",
    "            sentence_tokens.remove(user_response)\n",
    "    else:\n",
    "        #exit the loop\n",
    "        flag=False\n",
    "        #exit message\n",
    "        print(\"{companyname} Support: Thanks for chatting. I hope we could assist you today.\".format(companyname = company))"
   ]
  }
 ],
 "metadata": {
  "kernelspec": {
   "display_name": "Python 3",
   "language": "python",
   "name": "python3"
  },
  "language_info": {
   "codemirror_mode": {
    "name": "ipython",
    "version": 3
   },
   "file_extension": ".py",
   "mimetype": "text/x-python",
   "name": "python",
   "nbconvert_exporter": "python",
   "pygments_lexer": "ipython3",
   "version": "3.10.6"
  },
  "orig_nbformat": 4
 },
 "nbformat": 4,
 "nbformat_minor": 2
}
